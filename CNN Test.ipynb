{
 "cells": [
  {
   "cell_type": "markdown",
   "id": "b5cf8639",
   "metadata": {},
   "source": [
    "## Test CNN"
   ]
  },
  {
   "cell_type": "code",
   "execution_count": null,
   "id": "d4528c0f",
   "metadata": {},
   "outputs": [],
   "source": []
  },
  {
   "cell_type": "raw",
   "id": "b5ff4ea3",
   "metadata": {},
   "source": [
    "Answer all of them"
   ]
  },
  {
   "cell_type": "markdown",
   "id": "b3950c0e",
   "metadata": {},
   "source": [
    "##### 1 - What is the primary purpose of convolution in a CNN?\n",
    "\n",
    "A. Reduce the dimensions of the image\n",
    "\n",
    "B. Extract spatial features\n",
    "\n",
    "C. Normalize pixel values\n",
    "\n",
    "D. Perform data augmentation"
   ]
  },
  {
   "cell_type": "markdown",
   "id": "e8320ac0",
   "metadata": {},
   "source": [
    "##### 2- What is the role of a pooling layer in a CNN?\n",
    "\n",
    "A. Increase the size of feature maps\n",
    "\n",
    "B. Reduce computation by down-sampling\n",
    "\n",
    "C. Perform feature normalization\n",
    "\n",
    "D. Add non-linearity to the network"
   ]
  },
  {
   "cell_type": "markdown",
   "id": "1d0cbd59",
   "metadata": {},
   "source": [
    "##### 3- Which of the following is a commonly used activation function in CNNs?\n",
    "\n",
    "A. Sigmoid\n",
    "\n",
    "B. ReLU\n",
    "\n",
    "C. Tanh\n",
    "\n",
    "D. Softmax"
   ]
  },
  {
   "cell_type": "markdown",
   "id": "2bf7e230",
   "metadata": {},
   "source": [
    "#####  4- What does the stride parameter control in a convolution operation?\n",
    "\n",
    "A. The size of the filter\n",
    "\n",
    "B. The number of channels in the output\n",
    "\n",
    "C. The step size while sliding the filter\n",
    "\n",
    "D. The padding size around the input"
   ]
  },
  {
   "cell_type": "markdown",
   "id": "023c2d46",
   "metadata": {},
   "source": [
    "#####  5- What is padding in CNNs used for?\n",
    "\n",
    "A. Increase the number of filters\n",
    "\n",
    "B. Preserve spatial dimensions of the input\n",
    "\n",
    "C. Perform feature scaling\n",
    "\n",
    "D. Reduce computational cost"
   ]
  },
  {
   "cell_type": "markdown",
   "id": "677e4be5",
   "metadata": {},
   "source": [
    "#####  6- What happens to the number of parameters when you increase the number of filters in a convolutional layer?\n",
    "\n",
    "A. Decreases\n",
    "\n",
    "B. Stays the same\n",
    "\n",
    "C. Increases\n",
    "\n",
    "D. Depends on the activation function\n",
    "\n"
   ]
  },
  {
   "cell_type": "markdown",
   "id": "5e347448",
   "metadata": {},
   "source": [
    "#####  7- Which of these layers is not typically used in a CNN?\n",
    "\n",
    "A. Convolutional layer\n",
    "\n",
    "B. Pooling layer\n",
    "\n",
    "C. Fully connected layer\n",
    "\n",
    "D. Recurrent layer"
   ]
  },
  {
   "cell_type": "markdown",
   "id": "ba9fc07b",
   "metadata": {},
   "source": [
    "##### 8- What type of pooling operation takes the maximum value in each window?\n",
    "\n",
    "A. Average pooling\n",
    "\n",
    "B. Max pooling\n",
    "\n",
    "C. Min pooling\n",
    "\n",
    "D. Mean pooling"
   ]
  },
  {
   "cell_type": "markdown",
   "id": "047b2b1a",
   "metadata": {},
   "source": [
    "##### 9- What is a kernel in the context of CNNs?\n",
    "\n",
    "A. A filter used to extract features from an image\n",
    "\n",
    "B. A type of activation function\n",
    "\n",
    "C. A normalization method\n",
    "\n",
    "D. A parameter for regularization"
   ]
  },
  {
   "cell_type": "markdown",
   "id": "dd5dbaf6",
   "metadata": {},
   "source": [
    "##### 10- Which of the following techniques can help prevent overfitting in CNNs?\n",
    "\n",
    "A. Dropout\n",
    "\n",
    "B. Batch Normalization\n",
    "\n",
    "C. Data Augmentation\n",
    "\n",
    "D. All of the above\n"
   ]
  },
  {
   "cell_type": "markdown",
   "id": "9a3fc1da",
   "metadata": {},
   "source": [
    "##### 11- What was the size of the input image in AlexNet?\n",
    "\n",
    "A. 32×32\n",
    "\n",
    "B. 224×224\n",
    "\n",
    "C. 227x227\n",
    "\n",
    "D. 256x256"
   ]
  },
  {
   "cell_type": "markdown",
   "id": "d2a92283",
   "metadata": {},
   "source": [
    "##### 12- How many convolutional layers are present in the original AlexNet architecture?\n",
    "\n",
    "A. 3\n",
    "\n",
    "B. 5\n",
    "\n",
    "C. 8\n",
    "\n",
    "D. 10"
   ]
  },
  {
   "cell_type": "markdown",
   "id": "888ec385",
   "metadata": {},
   "source": [
    "##### 13- What was the main reason for using ReLU activation in AlexNet?\n",
    "\n",
    "A. To make training faster\n",
    "\n",
    "B. To reduce overfitting\n",
    "\n",
    "C. To preserve spatial information\n",
    "\n",
    "D. To normalize features"
   ]
  },
  {
   "cell_type": "markdown",
   "id": "99ba58b6",
   "metadata": {},
   "source": [
    "##### 14- Which optimization algorithm was used to train AlexNet?\n",
    "\n",
    "A. SGD with momentum\n",
    "\n",
    "B. Adam\n",
    "\n",
    "C. RMSProp\n",
    "\n",
    "D. AdaGrad"
   ]
  },
  {
   "cell_type": "markdown",
   "id": "ed04865d",
   "metadata": {},
   "source": [
    "##### 15- What technique did AlexNet use to handle overfitting?\n",
    "\n",
    "A. Dropout\n",
    "\n",
    "B. Batch Normalization\n",
    "\n",
    "C. Weight Regularization\n",
    "\n",
    "D. Data Augmentation"
   ]
  },
  {
   "cell_type": "markdown",
   "id": "306e8aeb",
   "metadata": {},
   "source": [
    "##### 16- What is the key design principle of the VGG architecture?\n",
    "\n",
    "A. Very deep networks with small convolutional filters\n",
    "\n",
    "B. Using large filters for feature extraction\n",
    "\n",
    "C. Incorporating residual connections\n",
    "\n",
    "D. Combining convolutional and recurrent layers"
   ]
  },
  {
   "cell_type": "markdown",
   "id": "625440fe",
   "metadata": {},
   "source": [
    "##### 17- What is the size of the convolutional filters used in VGG networks?\n",
    "\n",
    "A. 7×7\n",
    "\n",
    "B. 5×5\n",
    "\n",
    "C. 3x3\n",
    "\n",
    "D. 9x9"
   ]
  },
  {
   "cell_type": "markdown",
   "id": "f48f1ae7",
   "metadata": {},
   "source": [
    "##### 18- Which VGG variant has 19 layers?\n",
    "\n",
    "A. VGG11\n",
    "\n",
    "B. VGG13\n",
    "\n",
    "C. VGG16\n",
    "\n",
    "D. VGG19"
   ]
  },
  {
   "cell_type": "markdown",
   "id": "43c6f95f",
   "metadata": {},
   "source": [
    "##### 19- What was a significant disadvantage of VGG networks?\n",
    "\n",
    "A. Poor performance on large datasets\n",
    "\n",
    "B. High computational and memory requirements\n",
    "\n",
    "C. Limited use of pooling layers\n",
    "\n",
    "D. Lack of non-linearity"
   ]
  },
  {
   "cell_type": "markdown",
   "id": "3870b3e3",
   "metadata": {},
   "source": [
    "##### 20- What type of padding is used in VGG networks to maintain spatial dimensions after convolution?\n",
    "\n",
    "A. Valid padding\n",
    "\n",
    "B. Full padding\n",
    "\n",
    "C. Same padding\n",
    "\n",
    "D. Zero padding"
   ]
  },
  {
   "cell_type": "code",
   "execution_count": null,
   "id": "f56ada8a",
   "metadata": {},
   "outputs": [],
   "source": []
  },
  {
   "cell_type": "markdown",
   "id": "0f82c54c",
   "metadata": {},
   "source": [
    "## Question: \n",
    "#### Design and implement a Convolutional Neural Network (CNN) model to classify images into three categories: cats, dogs, and snakes, using the provided dataset. Ensure the following:\n",
    "\n",
    "\n",
    "\n",
    "Dataset Download Link"
   ]
  },
  {
   "cell_type": "raw",
   "id": "5009481d",
   "metadata": {},
   "source": [
    "!pip install kagglehub\n",
    "import kagglehub\n",
    "\n",
    "# Download latest version\n",
    "path = kagglehub.dataset_download(\"borhanitrash/animal-image-classification-dataset\")\n",
    "\n",
    "print(\"Path to dataset files:\", path)"
   ]
  },
  {
   "cell_type": "markdown",
   "id": "7c9bc73f",
   "metadata": {},
   "source": [
    "\n",
    "\n",
    "You are provided with an image dataset containing three classes: cats, dogs, and snakes. Using this dataset:\n",
    "\n",
    "####   Task 1: Preprocess the Dataset\n",
    "\n",
    "#####  Preprocessing Steps:\n",
    "\n",
    "    Image Resizing: Resize all images to a uniform size (e.g., 224×224).\n",
    "\n",
    "    Normalization: Scale pixel values to the range [0, 1].\n",
    "\n",
    "    One-Hot Encoding: Convert class labels (cats, dogs, snakes) into one-hot encoded vectors.\n",
    "\n",
    "    Data Augmentation: Apply augmentation techniques such as rotation, flipping, and zooming to increase the size of the dataset.\n",
    "\n",
    "    Train-Test Split: Split the dataset into training (80%) and validation (20%) sets\n",
    "    \n",
    "####  Task 2: Build the CNN Architecture\n",
    "\n",
    "Create a CNN architecture with the following specifications:\n",
    "\n",
    "    Input Layer:\n",
    "\n",
    "        Input: Images of size 224×224×3.\n",
    "    \n",
    "    Convolutional Layers:\n",
    "       \n",
    "       \n",
    "       3 Convolutional Layers:\n",
    "            \n",
    "            Layer 1: 3×3 filters, 32 filters, ReLU activation.\n",
    "               \n",
    "            Layer 2: 3×3 filters, 64 filters, ReLU activation.\n",
    "            \n",
    "            Layer 3: 3×3 filters, 128 filters, ReLU activation.\n",
    "\n",
    "    Max Pooling:\n",
    "        \n",
    "        Use Max Pooling (2×2) after the 1st and 2nd convolutional layers.\n",
    "    \n",
    "    Fully Connected Layers:\n",
    "        \n",
    "        Flatten the output from the convolutional layers.\n",
    "        \n",
    "        FC Layer 1: 128 neurons, ReLU activation.\n",
    "        \n",
    "        FC Layer 2: 64 neurons, ReLU activation\n",
    "        \n",
    "        Output Layer: 3 neurons (one for each class), with softmax activation\n",
    "        \n",
    "        \n",
    "    Output:\n",
    "        \n",
    "        The final output layer will classify the images into one of the three categories (cats, dogs, snakes).\n",
    " \n",
    " \n",
    "####   Task 3: : Train and Evaluate the Model\n",
    "\n",
    "    Use a categorical cross-entropy loss function.\n",
    "    \n",
    "    Use the Adam optimizer with a learning rate of 0.001.\n",
    "    \n",
    "    Train the model for 15-20 epochs, and track accuracy and loss for both training and validation sets.\n",
    "        \n",
    "        "
   ]
  },
  {
   "attachments": {
    "image.png": {
     "image/png": "[encoded data removed]"
    }
   },
   "cell_type": "markdown",
   "id": "5085ff74",
   "metadata": {},
   "source": [
    "![image.png](attachment:image.png)"
   ]
  },
  {
   "cell_type": "code",
   "execution_count": null,
   "id": "b4ea3154",
   "metadata": {},
   "outputs": [],
   "source": []
  },
  {
   "cell_type": "code",
   "execution_count": null,
   "id": "95fabd33",
   "metadata": {},
   "outputs": [],
   "source": []
  }
 ],
 "metadata": {
  "kernelspec": {
   "display_name": "Python 3 (ipykernel)",
   "language": "python",
   "name": "python3"
  },
  "language_info": {
   "codemirror_mode": {
    "name": "ipython",
    "version": 3
   },
   "file_extension": ".py",
   "mimetype": "text/x-python",
   "name": "python",
   "nbconvert_exporter": "python",
   "pygments_lexer": "ipython3",
   "version": "3.10.12"
  }
 },
 "nbformat": 4,
 "nbformat_minor": 5
}
