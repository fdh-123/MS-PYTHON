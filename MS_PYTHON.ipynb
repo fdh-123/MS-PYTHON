{
  "nbformat": 4,
  "nbformat_minor": 0,
  "metadata": {
    "colab": {
      "provenance": []
    },
    "kernelspec": {
      "name": "python3",
      "display_name": "Python 3"
    },
    "language_info": {
      "name": "python"
    }
  },
  "cells": [
    {
      "cell_type": "markdown",
      "source": [
        "**KEYWORDS**&**SIMPLE** **EXPRESSIONS**"
      ],
      "metadata": {
        "id": "zsxvgokfr5Uj"
      }
    },
    {
      "cell_type": "code",
      "execution_count": 205,
      "metadata": {
        "id": "1TFvsSTl9XR0"
      },
      "outputs": [],
      "source": [
        "#1)\n",
        "#if,for,import,from,true\n",
        "#if-used to create conditional statements\n",
        "#for-used to create for loop\n",
        "#import-used to import python libraries,functions,variables\n",
        "#from-used to import specific parts of modules\n",
        "#true-it is a boolean value in python"
      ]
    },
    {
      "cell_type": "code",
      "source": [
        "#2)\n",
        "length=5\n",
        "width=10\n",
        "area=print(length*width)\n"
      ],
      "metadata": {
        "colab": {
          "base_uri": "https://localhost:8080/"
        },
        "id": "arfC0c_l-Ahr",
        "outputId": "8d239f87-23be-4b23-f6a9-4cdfaa9405c2"
      },
      "execution_count": 206,
      "outputs": [
        {
          "output_type": "stream",
          "name": "stdout",
          "text": [
            "50\n"
          ]
        }
      ]
    },
    {
      "cell_type": "code",
      "source": [
        "#3)\n",
        "A=[5,6,7]\n",
        "B=A\n",
        "print(A is B)"
      ],
      "metadata": {
        "id": "faPIPRpVsoIR",
        "colab": {
          "base_uri": "https://localhost:8080/"
        },
        "outputId": "3064a301-db85-41a7-8d39-14ad5add4331"
      },
      "execution_count": 207,
      "outputs": [
        {
          "output_type": "stream",
          "name": "stdout",
          "text": [
            "True\n"
          ]
        }
      ]
    },
    {
      "cell_type": "code",
      "source": [
        "#4)\n",
        "expression=(5+6)*3-8/4\n",
        "print(expression)\n",
        "\n",
        "\n"
      ],
      "metadata": {
        "colab": {
          "base_uri": "https://localhost:8080/"
        },
        "id": "r6gkRZYeACjP",
        "outputId": "42337d2e-44ba-49a7-df0c-4d57fb36ea43"
      },
      "execution_count": 208,
      "outputs": [
        {
          "output_type": "stream",
          "name": "stdout",
          "text": [
            "31.0\n"
          ]
        }
      ]
    },
    {
      "cell_type": "code",
      "source": [
        "#5)\n",
        "10%3"
      ],
      "metadata": {
        "colab": {
          "base_uri": "https://localhost:8080/"
        },
        "id": "3m72jeopuHyK",
        "outputId": "e967b0c6-2ad1-4da9-fce0-4466a1f6ebae"
      },
      "execution_count": 209,
      "outputs": [
        {
          "output_type": "execute_result",
          "data": {
            "text/plain": [
              "1"
            ]
          },
          "metadata": {},
          "execution_count": 209
        }
      ]
    },
    {
      "cell_type": "markdown",
      "source": [
        "**DATA** **TYPES**"
      ],
      "metadata": {
        "id": "toEDel9fuWZ0"
      }
    },
    {
      "cell_type": "code",
      "source": [
        "#6)\n",
        "#3.14 is a float value\n",
        "value=3.14\n",
        "print(type(value))\n"
      ],
      "metadata": {
        "colab": {
          "base_uri": "https://localhost:8080/"
        },
        "id": "X79mjHv3CD21",
        "outputId": "e5590d14-8e60-4acb-b68f-0252d27f4c89"
      },
      "execution_count": 210,
      "outputs": [
        {
          "output_type": "stream",
          "name": "stdout",
          "text": [
            "<class 'float'>\n"
          ]
        }
      ]
    },
    {
      "cell_type": "code",
      "source": [
        "#7)\n",
        "#num=10\n",
        "#print(type(num))\n",
        "#print(float(num))"
      ],
      "metadata": {
        "id": "_FIciXZPCg5a"
      },
      "execution_count": 211,
      "outputs": []
    },
    {
      "cell_type": "code",
      "source": [
        "#8)\n",
        "a='goodmorning'\n",
        "b='everyone'\n",
        "add=a+b\n",
        "print(add)"
      ],
      "metadata": {
        "colab": {
          "base_uri": "https://localhost:8080/"
        },
        "id": "MG6HtPZYDYSq",
        "outputId": "3b99e7da-4b6e-462c-a3a2-1d661d40b18b"
      },
      "execution_count": 212,
      "outputs": [
        {
          "output_type": "stream",
          "name": "stdout",
          "text": [
            "goodmorningeveryone\n"
          ]
        }
      ]
    },
    {
      "cell_type": "code",
      "source": [
        "#9)\n",
        "#Data type is boolean\n",
        "A=3>2\n",
        "print(type(A))"
      ],
      "metadata": {
        "colab": {
          "base_uri": "https://localhost:8080/"
        },
        "id": "cR8oSyDCumCX",
        "outputId": "0c8e0ed7-8bf4-42cc-b6f1-b4bc63feaaff"
      },
      "execution_count": 213,
      "outputs": [
        {
          "output_type": "stream",
          "name": "stdout",
          "text": [
            "<class 'bool'>\n"
          ]
        }
      ]
    },
    {
      "cell_type": "code",
      "source": [
        "#10)\n",
        "string='123'\n",
        "integer=int(string)\n",
        "print(integer)"
      ],
      "metadata": {
        "colab": {
          "base_uri": "https://localhost:8080/"
        },
        "id": "JtsHzudoFQ8E",
        "outputId": "b6560a0e-11f9-4e04-80f1-d4d31c72bb1d"
      },
      "execution_count": 214,
      "outputs": [
        {
          "output_type": "stream",
          "name": "stdout",
          "text": [
            "123\n"
          ]
        }
      ]
    },
    {
      "cell_type": "markdown",
      "source": [
        "**DATA STRUCTURES**"
      ],
      "metadata": {
        "id": "EN_cS3zlvqj5"
      }
    },
    {
      "cell_type": "code",
      "source": [
        "#11)\n",
        "fruits=['mango','apple','orange','guva','grapes']\n",
        "print(fruits[2])"
      ],
      "metadata": {
        "colab": {
          "base_uri": "https://localhost:8080/"
        },
        "id": "0GV_fvk_GAfZ",
        "outputId": "da9f1f00-a0c3-4cdb-83e1-2bf6555391a1"
      },
      "execution_count": 215,
      "outputs": [
        {
          "output_type": "stream",
          "name": "stdout",
          "text": [
            "orange\n"
          ]
        }
      ]
    },
    {
      "cell_type": "code",
      "source": [
        "#12)\n",
        "list=[4,6,8]\n",
        "list.append(5)\n",
        "print(list)"
      ],
      "metadata": {
        "colab": {
          "base_uri": "https://localhost:8080/"
        },
        "id": "vFmkm0gMHCPz",
        "outputId": "52afc677-7495-4d06-b9b8-e088b45e7424"
      },
      "execution_count": 216,
      "outputs": [
        {
          "output_type": "stream",
          "name": "stdout",
          "text": [
            "[4, 6, 8, 5]\n"
          ]
        }
      ]
    },
    {
      "cell_type": "code",
      "source": [
        "#13)\n",
        "list=[1,2,3]\n",
        "list.pop()\n",
        "print(list)"
      ],
      "metadata": {
        "colab": {
          "base_uri": "https://localhost:8080/"
        },
        "id": "nI5tFiDUHz-X",
        "outputId": "29c25cd0-f13d-4860-dcf8-c689869cf675"
      },
      "execution_count": 217,
      "outputs": [
        {
          "output_type": "stream",
          "name": "stdout",
          "text": [
            "[1, 2]\n"
          ]
        }
      ]
    },
    {
      "cell_type": "code",
      "source": [
        "#14)\n",
        "#tuple objects doesnot support item assignment\n",
        "#tuple=(1,2,3,4,5)\n",
        "#print(tuple[1]=8\n"
      ],
      "metadata": {
        "id": "60LmAmrqvXxr"
      },
      "execution_count": 218,
      "outputs": []
    },
    {
      "cell_type": "code",
      "source": [
        "#15)\n",
        "list=[10,20,30,40,50]\n",
        "a=list[-2:]\n",
        "print(a)"
      ],
      "metadata": {
        "colab": {
          "base_uri": "https://localhost:8080/"
        },
        "id": "b9QUbICcIU_l",
        "outputId": "aff4a093-3004-4715-a4e6-7be8434b1ee2"
      },
      "execution_count": 219,
      "outputs": [
        {
          "output_type": "stream",
          "name": "stdout",
          "text": [
            "[40, 50]\n"
          ]
        }
      ]
    },
    {
      "cell_type": "code",
      "source": [
        "#16)\n",
        "member={'name':'Alice','age':25}\n",
        "name_value=member['name']\n",
        "print(name_value)\n",
        "name_value=member['age']\n",
        "print(name_value)"
      ],
      "metadata": {
        "colab": {
          "base_uri": "https://localhost:8080/"
        },
        "id": "KKJd-MW3I_w3",
        "outputId": "b9295ee1-7d94-4f61-cb7b-efa0d9c82896"
      },
      "execution_count": 220,
      "outputs": [
        {
          "output_type": "stream",
          "name": "stdout",
          "text": [
            "Alice\n",
            "25\n"
          ]
        }
      ]
    },
    {
      "cell_type": "code",
      "source": [
        "#17)\n",
        "dict={}"
      ],
      "metadata": {
        "id": "E-z_TfGuwQNa"
      },
      "execution_count": 221,
      "outputs": []
    },
    {
      "cell_type": "code",
      "source": [
        "#18)\n",
        "member={'name':'Alice','age':25}\n",
        "print('name' in member) #this gives true if the key 'name' exists otherwise false"
      ],
      "metadata": {
        "colab": {
          "base_uri": "https://localhost:8080/"
        },
        "id": "xhO38I9TxRjC",
        "outputId": "7b581296-c3a9-4f2d-94ce-4cc264e11cb9"
      },
      "execution_count": 222,
      "outputs": [
        {
          "output_type": "stream",
          "name": "stdout",
          "text": [
            "True\n"
          ]
        }
      ]
    },
    {
      "cell_type": "code",
      "source": [
        "#19)\n",
        "#list is ordered,indexing is possible,duplication is allowed where as set is unordered,duplication is not possible,no duplicates"
      ],
      "metadata": {
        "id": "6gHp6uJhJ80N"
      },
      "execution_count": 223,
      "outputs": []
    },
    {
      "cell_type": "code",
      "source": [
        "#20)\n",
        "\n",
        "print(set([1,2,3,2,1]))"
      ],
      "metadata": {
        "id": "YMB1pQ_aMTRA",
        "colab": {
          "base_uri": "https://localhost:8080/"
        },
        "outputId": "5ab6de56-5b07-46e5-8ed5-d5a60e4e4331"
      },
      "execution_count": 224,
      "outputs": [
        {
          "output_type": "stream",
          "name": "stdout",
          "text": [
            "{1, 2, 3}\n"
          ]
        }
      ]
    },
    {
      "cell_type": "markdown",
      "source": [
        "**BRANCHING**"
      ],
      "metadata": {
        "id": "5TiyYYmSzl-d"
      }
    },
    {
      "cell_type": "code",
      "source": [
        "#21)\n",
        "number=20\n",
        "if number>10:\n",
        "  print('number is greater than 10')"
      ],
      "metadata": {
        "colab": {
          "base_uri": "https://localhost:8080/"
        },
        "id": "Bz1elOZUzrja",
        "outputId": "d40ae7e0-17f5-4e92-8363-7de9e456392d"
      },
      "execution_count": 255,
      "outputs": [
        {
          "output_type": "stream",
          "name": "stdout",
          "text": [
            "number is greater than 10\n"
          ]
        }
      ]
    },
    {
      "cell_type": "code",
      "source": [
        "#22)\n",
        "number=-30\n",
        "if number>0:\n",
        "  print('number is positive')\n",
        "else:\n",
        "  print('number is negative')"
      ],
      "metadata": {
        "colab": {
          "base_uri": "https://localhost:8080/"
        },
        "id": "sc2jq1qm13To",
        "outputId": "9504901b-3965-4e84-af66-870b152ddda1"
      },
      "execution_count": 256,
      "outputs": [
        {
          "output_type": "stream",
          "name": "stdout",
          "text": [
            "number is negative\n"
          ]
        }
      ]
    },
    {
      "cell_type": "code",
      "source": [
        "#23)\n",
        "number=9\n",
        "if number>0:\n",
        "  print('number is positive')\n",
        "elif number<0:\n",
        "  print('number is negative')\n",
        "else:\n",
        "  print('number is zero')"
      ],
      "metadata": {
        "colab": {
          "base_uri": "https://localhost:8080/"
        },
        "id": "WomAZNrP2Blb",
        "outputId": "7cf8dc9d-5185-4377-a291-d4c3f50bdadb"
      },
      "execution_count": 257,
      "outputs": [
        {
          "output_type": "stream",
          "name": "stdout",
          "text": [
            "number is positive\n"
          ]
        }
      ]
    },
    {
      "cell_type": "code",
      "source": [
        "#24)\n",
        "number=int(input('enter the number'))\n",
        "if number%2==0:\n",
        "  print('number is even')\n",
        "else:\n",
        "  print('number is odd')"
      ],
      "metadata": {
        "colab": {
          "base_uri": "https://localhost:8080/"
        },
        "id": "omkQpD7i2TFT",
        "outputId": "57ef80e2-5db9-4593-81f3-6ef2eb88e28a"
      },
      "execution_count": 258,
      "outputs": [
        {
          "output_type": "stream",
          "name": "stdout",
          "text": [
            "enter the number5\n",
            "number is odd\n"
          ]
        }
      ]
    },
    {
      "cell_type": "code",
      "source": [
        "#25)\n",
        "year=int(input('enter the year'))\n",
        "if year%4==0:\n",
        "  print('year is leap year')\n",
        "else:\n",
        "  print('year is not leap year')"
      ],
      "metadata": {
        "colab": {
          "base_uri": "https://localhost:8080/"
        },
        "id": "EweI51TK2jRx",
        "outputId": "6cca5636-e276-4944-bcd3-49de21ced209"
      },
      "execution_count": 259,
      "outputs": [
        {
          "output_type": "stream",
          "name": "stdout",
          "text": [
            "enter the year2020\n",
            "year is leap year\n"
          ]
        }
      ]
    },
    {
      "cell_type": "code",
      "source": [
        "#26)\n",
        "number=int(input('enter the number'))\n",
        "if number>0:\n",
        "  print('number is positive')\n",
        "elif number<0:\n",
        "  print('number is negative')\n",
        "else:\n",
        "  print('number is zero')"
      ],
      "metadata": {
        "colab": {
          "base_uri": "https://localhost:8080/"
        },
        "id": "_gapcX863BrQ",
        "outputId": "48058b86-7d73-4f82-9985-073ae21f0fac"
      },
      "execution_count": 260,
      "outputs": [
        {
          "output_type": "stream",
          "name": "stdout",
          "text": [
            "enter the number5\n",
            "number is positive\n"
          ]
        }
      ]
    },
    {
      "cell_type": "code",
      "source": [
        "#27)\n",
        "y=int(input('enter a number'))\n",
        "if 5<y<10:\n",
        "  print('number is between 5 and 10')\n",
        "else:\n",
        "  print('number is not between 5 and 10')"
      ],
      "metadata": {
        "colab": {
          "base_uri": "https://localhost:8080/"
        },
        "id": "nfCs6gMb4WTN",
        "outputId": "bdf0950b-38a0-4568-fbc3-63c28afd29f5"
      },
      "execution_count": 261,
      "outputs": [
        {
          "output_type": "stream",
          "name": "stdout",
          "text": [
            "enter a number5\n",
            "number is not between 5 and 10\n"
          ]
        }
      ]
    },
    {
      "cell_type": "code",
      "source": [
        "#28)\n",
        "c=10\n",
        "if isinstance(c,int):\n",
        "  print('c is an integer')\n",
        "else:\n",
        "  print('c is not an integer')"
      ],
      "metadata": {
        "colab": {
          "base_uri": "https://localhost:8080/"
        },
        "id": "ftTy93iL40ue",
        "outputId": "22c5323a-1a66-496a-e7b5-96714fd3e785"
      },
      "execution_count": 262,
      "outputs": [
        {
          "output_type": "stream",
          "name": "stdout",
          "text": [
            "c is an integer\n"
          ]
        }
      ]
    },
    {
      "cell_type": "code",
      "source": [
        "#29)\n",
        "grade=int(input('enter the grade:'))\n",
        "if grade>=60:\n",
        "  print('pass')\n",
        "else:\n",
        "  print('fail')\n"
      ],
      "metadata": {
        "colab": {
          "base_uri": "https://localhost:8080/"
        },
        "id": "F_1crhZV5At-",
        "outputId": "11dc0f07-c03c-4e41-86ae-336582e6f5c8"
      },
      "execution_count": 263,
      "outputs": [
        {
          "output_type": "stream",
          "name": "stdout",
          "text": [
            "enter the grade:60\n",
            "pass\n"
          ]
        }
      ]
    },
    {
      "cell_type": "code",
      "source": [
        "#30)\n",
        "variable=\"\"\n",
        "if not variable:\n",
        "  print('variable is empty')\n",
        "else:\n",
        "  print('variable is not empty')"
      ],
      "metadata": {
        "colab": {
          "base_uri": "https://localhost:8080/"
        },
        "id": "2-HCTQ6h5b_6",
        "outputId": "2ee4c8d3-005d-4013-c6f7-e9be8785954b"
      },
      "execution_count": 264,
      "outputs": [
        {
          "output_type": "stream",
          "name": "stdout",
          "text": [
            "variable is empty\n"
          ]
        }
      ]
    },
    {
      "cell_type": "markdown",
      "source": [
        "**RANGE** **AND** **FOR** **LOOP**"
      ],
      "metadata": {
        "id": "ZtHphTVvhnPc"
      }
    },
    {
      "cell_type": "code",
      "source": [
        "#31)\n",
        "for i in range(1,11):\n",
        "    print(i)"
      ],
      "metadata": {
        "colab": {
          "base_uri": "https://localhost:8080/"
        },
        "id": "mhjZ5RKTNpR_",
        "outputId": "c29b00e2-e93e-4e23-9315-1935ac71ab5a"
      },
      "execution_count": 235,
      "outputs": [
        {
          "output_type": "stream",
          "name": "stdout",
          "text": [
            "1\n",
            "2\n",
            "3\n",
            "4\n",
            "5\n",
            "6\n",
            "7\n",
            "8\n",
            "9\n",
            "10\n"
          ]
        }
      ]
    },
    {
      "cell_type": "code",
      "source": [
        "#32)\n",
        "total_sum=0\n",
        "for i in range(1,21):\n",
        "    total_sum+=i\n",
        "    print(total_sum)"
      ],
      "metadata": {
        "colab": {
          "base_uri": "https://localhost:8080/"
        },
        "id": "i9lxjshVOwkq",
        "outputId": "7f73cbed-23e5-44a8-eae6-74706308d1a7"
      },
      "execution_count": 236,
      "outputs": [
        {
          "output_type": "stream",
          "name": "stdout",
          "text": [
            "1\n",
            "3\n",
            "6\n",
            "10\n",
            "15\n",
            "21\n",
            "28\n",
            "36\n",
            "45\n",
            "55\n",
            "66\n",
            "78\n",
            "91\n",
            "105\n",
            "120\n",
            "136\n",
            "153\n",
            "171\n",
            "190\n",
            "210\n"
          ]
        }
      ]
    },
    {
      "cell_type": "code",
      "source": [
        "#33)\n",
        "list=['appu','achu','priya','anju','anu']\n",
        "for i in list:\n",
        "    print(i)"
      ],
      "metadata": {
        "colab": {
          "base_uri": "https://localhost:8080/"
        },
        "id": "69tylXI6Pm2j",
        "outputId": "da040471-5628-4054-bd00-50e1f7c2a5ec"
      },
      "execution_count": 237,
      "outputs": [
        {
          "output_type": "stream",
          "name": "stdout",
          "text": [
            "appu\n",
            "achu\n",
            "priya\n",
            "anju\n",
            "anu\n"
          ]
        }
      ]
    },
    {
      "cell_type": "code",
      "source": [
        "#34\n",
        "for i in range(1,11):\n",
        "    print(i**2)"
      ],
      "metadata": {
        "colab": {
          "base_uri": "https://localhost:8080/"
        },
        "id": "F-vkRhZdP0fe",
        "outputId": "4ea8f893-36f9-42bf-ab79-029a55aca3eb"
      },
      "execution_count": 238,
      "outputs": [
        {
          "output_type": "stream",
          "name": "stdout",
          "text": [
            "1\n",
            "4\n",
            "9\n",
            "16\n",
            "25\n",
            "36\n",
            "49\n",
            "64\n",
            "81\n",
            "100\n"
          ]
        }
      ]
    },
    {
      "cell_type": "code",
      "source": [
        "\n",
        "#35)\n",
        "for i in range(2,21,2):\n",
        "  print(i)\n",
        "\n"
      ],
      "metadata": {
        "colab": {
          "base_uri": "https://localhost:8080/"
        },
        "id": "nhzOfraDQZnS",
        "outputId": "efb77412-39fa-4b4f-8733-efa63231aca3"
      },
      "execution_count": 239,
      "outputs": [
        {
          "output_type": "stream",
          "name": "stdout",
          "text": [
            "2\n",
            "4\n",
            "6\n",
            "8\n",
            "10\n",
            "12\n",
            "14\n",
            "16\n",
            "18\n",
            "20\n"
          ]
        }
      ]
    },
    {
      "cell_type": "code",
      "source": [
        "#36)\n",
        "for i in range(10,0,-1):\n",
        "  print(i)"
      ],
      "metadata": {
        "id": "sMuJkk_1RNVo",
        "colab": {
          "base_uri": "https://localhost:8080/"
        },
        "outputId": "607ef0df-cbd0-4358-ecf3-144cd3a6cc59"
      },
      "execution_count": 240,
      "outputs": [
        {
          "output_type": "stream",
          "name": "stdout",
          "text": [
            "10\n",
            "9\n",
            "8\n",
            "7\n",
            "6\n",
            "5\n",
            "4\n",
            "3\n",
            "2\n",
            "1\n"
          ]
        }
      ]
    },
    {
      "cell_type": "code",
      "source": [
        "#37)\n",
        "fruits=['guva','apple','watermelon','grapes','orange','jackfruit']\n",
        "for i in fruits:\n",
        "  print(i.upper())"
      ],
      "metadata": {
        "colab": {
          "base_uri": "https://localhost:8080/"
        },
        "id": "O_IUPKmAiAUS",
        "outputId": "09bed65b-f119-4516-a7d2-ff7ba00a40f7"
      },
      "execution_count": 241,
      "outputs": [
        {
          "output_type": "stream",
          "name": "stdout",
          "text": [
            "GUVA\n",
            "APPLE\n",
            "WATERMELON\n",
            "GRAPES\n",
            "ORANGE\n",
            "JACKFRUIT\n"
          ]
        }
      ]
    },
    {
      "cell_type": "code",
      "source": [
        "#38)\n",
        "list=['lion','tiger','elephant','monkey','giraffe']\n",
        "for index,animal in enumerate(list):\n",
        "  print(index,animal)"
      ],
      "metadata": {
        "colab": {
          "base_uri": "https://localhost:8080/"
        },
        "id": "h69kJyO6itAX",
        "outputId": "e8329d19-b628-4803-f8d0-73b55c314ace"
      },
      "execution_count": 242,
      "outputs": [
        {
          "output_type": "stream",
          "name": "stdout",
          "text": [
            "0 lion\n",
            "1 tiger\n",
            "2 elephant\n",
            "3 monkey\n",
            "4 giraffe\n"
          ]
        }
      ]
    },
    {
      "cell_type": "code",
      "source": [
        "#39)\n",
        "for i in range(0,31,3):\n",
        "  print(i)"
      ],
      "metadata": {
        "colab": {
          "base_uri": "https://localhost:8080/"
        },
        "id": "3jHV3c5Ljnf7",
        "outputId": "0498a0e5-613b-42c8-9939-81ab7b56f25e"
      },
      "execution_count": 243,
      "outputs": [
        {
          "output_type": "stream",
          "name": "stdout",
          "text": [
            "0\n",
            "3\n",
            "6\n",
            "9\n",
            "12\n",
            "15\n",
            "18\n",
            "21\n",
            "24\n",
            "27\n",
            "30\n"
          ]
        }
      ]
    },
    {
      "cell_type": "code",
      "source": [
        "#40)\n",
        "number=5\n",
        "factorial=1\n",
        "for i in range(1,number+1):\n",
        "  factorial*=i\n",
        "  print(factorial)"
      ],
      "metadata": {
        "colab": {
          "base_uri": "https://localhost:8080/"
        },
        "id": "f-dEYkCPjnQ2",
        "outputId": "2c0b45e0-f22e-4bba-efb9-f9ba6ff1b689"
      },
      "execution_count": 244,
      "outputs": [
        {
          "output_type": "stream",
          "name": "stdout",
          "text": [
            "1\n",
            "2\n",
            "6\n",
            "24\n",
            "120\n"
          ]
        }
      ]
    },
    {
      "cell_type": "markdown",
      "source": [
        "**WHILE** **LOOP**"
      ],
      "metadata": {
        "id": "43Xmtkw2lBw_"
      }
    },
    {
      "cell_type": "code",
      "source": [
        "#41)\n",
        "a=1\n",
        "while a<=5:\n",
        "    print(a)\n",
        "    a+=1"
      ],
      "metadata": {
        "colab": {
          "base_uri": "https://localhost:8080/"
        },
        "id": "u38Q9XmsK8xT",
        "outputId": "345bef13-ecfe-483c-82d3-09bccc059eab"
      },
      "execution_count": 245,
      "outputs": [
        {
          "output_type": "stream",
          "name": "stdout",
          "text": [
            "1\n",
            "2\n",
            "3\n",
            "4\n",
            "5\n"
          ]
        }
      ]
    },
    {
      "cell_type": "code",
      "source": [
        "#42)\n",
        "password=''\n",
        "while password !='1234':\n",
        "  password=input('enter the password')\n",
        "  print('access granted')"
      ],
      "metadata": {
        "colab": {
          "base_uri": "https://localhost:8080/"
        },
        "id": "aXuA47M_lXBD",
        "outputId": "12d3d974-19c7-4a46-ae33-5982324635ac"
      },
      "execution_count": 246,
      "outputs": [
        {
          "output_type": "stream",
          "name": "stdout",
          "text": [
            "enter the passwordhi\n",
            "access granted\n",
            "enter the password1234\n",
            "access granted\n"
          ]
        }
      ]
    },
    {
      "cell_type": "code",
      "source": [
        "#43)\n",
        "num=1\n",
        "total_sum=0\n",
        "while num<=100:\n",
        "  total_sum+=num\n",
        "  num+=1\n",
        "  print(total_sum)"
      ],
      "metadata": {
        "colab": {
          "base_uri": "https://localhost:8080/"
        },
        "id": "Of5KvKl-NEUk",
        "outputId": "6fab6708-fcc7-4162-9f58-6a2461575d9b"
      },
      "execution_count": 247,
      "outputs": [
        {
          "output_type": "stream",
          "name": "stdout",
          "text": [
            "1\n",
            "3\n",
            "6\n",
            "10\n",
            "15\n",
            "21\n",
            "28\n",
            "36\n",
            "45\n",
            "55\n",
            "66\n",
            "78\n",
            "91\n",
            "105\n",
            "120\n",
            "136\n",
            "153\n",
            "171\n",
            "190\n",
            "210\n",
            "231\n",
            "253\n",
            "276\n",
            "300\n",
            "325\n",
            "351\n",
            "378\n",
            "406\n",
            "435\n",
            "465\n",
            "496\n",
            "528\n",
            "561\n",
            "595\n",
            "630\n",
            "666\n",
            "703\n",
            "741\n",
            "780\n",
            "820\n",
            "861\n",
            "903\n",
            "946\n",
            "990\n",
            "1035\n",
            "1081\n",
            "1128\n",
            "1176\n",
            "1225\n",
            "1275\n",
            "1326\n",
            "1378\n",
            "1431\n",
            "1485\n",
            "1540\n",
            "1596\n",
            "1653\n",
            "1711\n",
            "1770\n",
            "1830\n",
            "1891\n",
            "1953\n",
            "2016\n",
            "2080\n",
            "2145\n",
            "2211\n",
            "2278\n",
            "2346\n",
            "2415\n",
            "2485\n",
            "2556\n",
            "2628\n",
            "2701\n",
            "2775\n",
            "2850\n",
            "2926\n",
            "3003\n",
            "3081\n",
            "3160\n",
            "3240\n",
            "3321\n",
            "3403\n",
            "3486\n",
            "3570\n",
            "3655\n",
            "3741\n",
            "3828\n",
            "3916\n",
            "4005\n",
            "4095\n",
            "4186\n",
            "4278\n",
            "4371\n",
            "4465\n",
            "4560\n",
            "4656\n",
            "4753\n",
            "4851\n",
            "4950\n",
            "5050\n"
          ]
        }
      ]
    },
    {
      "cell_type": "code",
      "source": [
        "#44)\n",
        "number=10\n",
        "while number>=1:\n",
        "  print(number)\n",
        "  number-=1"
      ],
      "metadata": {
        "colab": {
          "base_uri": "https://localhost:8080/"
        },
        "id": "9Mj_NNX1mOn0",
        "outputId": "beeb83b2-c202-481e-e1b8-dfaadffa2551"
      },
      "execution_count": 248,
      "outputs": [
        {
          "output_type": "stream",
          "name": "stdout",
          "text": [
            "10\n",
            "9\n",
            "8\n",
            "7\n",
            "6\n",
            "5\n",
            "4\n",
            "3\n",
            "2\n",
            "1\n"
          ]
        }
      ]
    },
    {
      "cell_type": "code",
      "source": [
        "#45)\n",
        "number=2\n",
        "while number<=20:\n",
        "  print(number)\n",
        "  number+=2"
      ],
      "metadata": {
        "colab": {
          "base_uri": "https://localhost:8080/"
        },
        "id": "1W6W4ErvnCSt",
        "outputId": "83f90f69-09e5-43cf-8714-f61405016aed"
      },
      "execution_count": 249,
      "outputs": [
        {
          "output_type": "stream",
          "name": "stdout",
          "text": [
            "2\n",
            "4\n",
            "6\n",
            "8\n",
            "10\n",
            "12\n",
            "14\n",
            "16\n",
            "18\n",
            "20\n"
          ]
        }
      ]
    },
    {
      "cell_type": "code",
      "source": [
        "#46)\n",
        "number=1\n",
        "while number<=100:\n",
        "  print(number)\n",
        "  number+=10"
      ],
      "metadata": {
        "colab": {
          "base_uri": "https://localhost:8080/"
        },
        "id": "W-1SISp3opSW",
        "outputId": "7c609409-c373-4b75-ca43-15bb75c8c7fb"
      },
      "execution_count": 250,
      "outputs": [
        {
          "output_type": "stream",
          "name": "stdout",
          "text": [
            "1\n",
            "11\n",
            "21\n",
            "31\n",
            "41\n",
            "51\n",
            "61\n",
            "71\n",
            "81\n",
            "91\n"
          ]
        }
      ]
    },
    {
      "cell_type": "code",
      "source": [
        "#47)\n",
        "list=[1,2,3,4,5]\n",
        "while list:\n",
        "  list.pop()\n",
        "  print(list)"
      ],
      "metadata": {
        "colab": {
          "base_uri": "https://localhost:8080/"
        },
        "id": "7MrCIpbWo9c-",
        "outputId": "3d1e3fa3-4fa3-486a-823d-45e8901ef1e4"
      },
      "execution_count": 251,
      "outputs": [
        {
          "output_type": "stream",
          "name": "stdout",
          "text": [
            "[1, 2, 3, 4]\n",
            "[1, 2, 3]\n",
            "[1, 2]\n",
            "[1]\n",
            "[]\n"
          ]
        }
      ]
    },
    {
      "cell_type": "code",
      "source": [
        "#48)\n",
        "number=10\n",
        "while number>0:\n",
        "  print(number)\n",
        "  number-=1"
      ],
      "metadata": {
        "colab": {
          "base_uri": "https://localhost:8080/"
        },
        "id": "EO0Zjg0Qpdkd",
        "outputId": "ba3e3800-7ef4-4537-9d1f-0c8673f2e4c0"
      },
      "execution_count": 252,
      "outputs": [
        {
          "output_type": "stream",
          "name": "stdout",
          "text": [
            "10\n",
            "9\n",
            "8\n",
            "7\n",
            "6\n",
            "5\n",
            "4\n",
            "3\n",
            "2\n",
            "1\n"
          ]
        }
      ]
    },
    {
      "cell_type": "code",
      "source": [
        "#49)\n",
        "number=5\n",
        "count=1\n",
        "while count<=20:\n",
        "  print(number)\n",
        "  number+=5\n",
        "  count+=1"
      ],
      "metadata": {
        "colab": {
          "base_uri": "https://localhost:8080/"
        },
        "id": "iKRfw82DqDu4",
        "outputId": "aa86b03b-b761-4e34-b3e2-c38fe481acb2"
      },
      "execution_count": 253,
      "outputs": [
        {
          "output_type": "stream",
          "name": "stdout",
          "text": [
            "5\n",
            "10\n",
            "15\n",
            "20\n",
            "25\n",
            "30\n",
            "35\n",
            "40\n",
            "45\n",
            "50\n",
            "55\n",
            "60\n",
            "65\n",
            "70\n",
            "75\n",
            "80\n",
            "85\n",
            "90\n",
            "95\n",
            "100\n"
          ]
        }
      ]
    },
    {
      "cell_type": "code",
      "source": [
        "#50)\n",
        "fibonacci_series=[0,1]\n",
        "count=2\n",
        "while count<20:\n",
        "  fibonacci_series.append(fibonacci_series[-1]+fibonacci_series[-2])\n",
        "  count+=1\n",
        "  print(fibonacci_series)"
      ],
      "metadata": {
        "colab": {
          "base_uri": "https://localhost:8080/"
        },
        "id": "cCKwMXf5qhHL",
        "outputId": "cfa42803-21a4-4499-8263-25f4e07a8073"
      },
      "execution_count": 254,
      "outputs": [
        {
          "output_type": "stream",
          "name": "stdout",
          "text": [
            "[0, 1, 1]\n",
            "[0, 1, 1, 2]\n",
            "[0, 1, 1, 2, 3]\n",
            "[0, 1, 1, 2, 3, 5]\n",
            "[0, 1, 1, 2, 3, 5, 8]\n",
            "[0, 1, 1, 2, 3, 5, 8, 13]\n",
            "[0, 1, 1, 2, 3, 5, 8, 13, 21]\n",
            "[0, 1, 1, 2, 3, 5, 8, 13, 21, 34]\n",
            "[0, 1, 1, 2, 3, 5, 8, 13, 21, 34, 55]\n",
            "[0, 1, 1, 2, 3, 5, 8, 13, 21, 34, 55, 89]\n",
            "[0, 1, 1, 2, 3, 5, 8, 13, 21, 34, 55, 89, 144]\n",
            "[0, 1, 1, 2, 3, 5, 8, 13, 21, 34, 55, 89, 144, 233]\n",
            "[0, 1, 1, 2, 3, 5, 8, 13, 21, 34, 55, 89, 144, 233, 377]\n",
            "[0, 1, 1, 2, 3, 5, 8, 13, 21, 34, 55, 89, 144, 233, 377, 610]\n",
            "[0, 1, 1, 2, 3, 5, 8, 13, 21, 34, 55, 89, 144, 233, 377, 610, 987]\n",
            "[0, 1, 1, 2, 3, 5, 8, 13, 21, 34, 55, 89, 144, 233, 377, 610, 987, 1597]\n",
            "[0, 1, 1, 2, 3, 5, 8, 13, 21, 34, 55, 89, 144, 233, 377, 610, 987, 1597, 2584]\n",
            "[0, 1, 1, 2, 3, 5, 8, 13, 21, 34, 55, 89, 144, 233, 377, 610, 987, 1597, 2584, 4181]\n"
          ]
        }
      ]
    },
    {
      "cell_type": "code",
      "source": [],
      "metadata": {
        "id": "Vjdcvtijq_D2"
      },
      "execution_count": 254,
      "outputs": []
    }
  ]
}