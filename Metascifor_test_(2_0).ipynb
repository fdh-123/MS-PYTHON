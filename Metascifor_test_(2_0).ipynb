{
  "nbformat": 4,
  "nbformat_minor": 0,
  "metadata": {
    "colab": {
      "provenance": []
    },
    "kernelspec": {
      "name": "python3",
      "display_name": "Python 3"
    },
    "language_info": {
      "name": "python"
    }
  },
  "cells": [
    {
      "cell_type": "markdown",
      "source": [
        "# **TEST 2.0**"
      ],
      "metadata": {
        "id": "65mxgHrLRZhB"
      }
    },
    {
      "cell_type": "markdown",
      "source": [
        "Python Questions"
      ],
      "metadata": {
        "id": "UGAX-v_4RyZ_"
      }
    },
    {
      "cell_type": "code",
      "execution_count": 38,
      "metadata": {
        "id": "7YkhyOoiRSBY"
      },
      "outputs": [],
      "source": [
        "#1) Write a Python program using lambda to calculate the square of a number entered by the user"
      ]
    },
    {
      "cell_type": "code",
      "source": [
        "#ans)\n",
        "#lambda function is anonymous functions that can take any number of arguments.It is defined using lambda keyword\n",
        "\n",
        "square=lambda x:x**2\n",
        "a=square(5)\n",
        "b=square(4)\n",
        "print(f'square of 5 is {a}')\n",
        "print(f'square of 4 is {b}')"
      ],
      "metadata": {
        "colab": {
          "base_uri": "https://localhost:8080/"
        },
        "id": "wi-JZT2zRriN",
        "outputId": "3235c20a-ce5d-44a9-a55e-4059aeee75da"
      },
      "execution_count": 39,
      "outputs": [
        {
          "output_type": "stream",
          "name": "stdout",
          "text": [
            "square of 5 is 25\n",
            "square of 4 is 16\n"
          ]
        }
      ]
    },
    {
      "cell_type": "code",
      "source": [
        "#2) Use map to double all the elements in the list: [1, 2, 3, 4, 5]\n"
      ],
      "metadata": {
        "id": "DqsSfr-ZSLGM"
      },
      "execution_count": 165,
      "outputs": []
    },
    {
      "cell_type": "code",
      "source": [
        "import builtins"
      ],
      "metadata": {
        "id": "xEwlVjplySji"
      },
      "execution_count": 169,
      "outputs": []
    },
    {
      "cell_type": "code",
      "source": [
        "#ans)\n",
        "\n",
        "#map function is used when we want to apply single transformation to all iteratable elements\n",
        "values=[1,2,3,4,5]\n",
        "double=builtins.list(map(lambda x:x*2,values))\n",
        "print(double)"
      ],
      "metadata": {
        "colab": {
          "base_uri": "https://localhost:8080/"
        },
        "id": "QIRAJyFrT6-A",
        "outputId": "a6174a28-5d23-4a82-ceb9-a3a40d3127f0"
      },
      "execution_count": 171,
      "outputs": [
        {
          "output_type": "stream",
          "name": "stdout",
          "text": [
            "[2, 4, 6, 8, 10]\n"
          ]
        }
      ]
    },
    {
      "cell_type": "code",
      "source": [
        "#3)Use filter to extract all even numbers from the list: [10, 15, 20, 25, 30].\n"
      ],
      "metadata": {
        "id": "UgKKZNsGUrF9"
      },
      "execution_count": 172,
      "outputs": []
    },
    {
      "cell_type": "code",
      "source": [
        "import builtins"
      ],
      "metadata": {
        "id": "XdP8kXMIyp5n"
      },
      "execution_count": 175,
      "outputs": []
    },
    {
      "cell_type": "code",
      "source": [
        "#ans)\n",
        "#filter function is used to filtering a sequence based on the specific conditions\n",
        "Items=[10,15,20,25,30]\n",
        "even=builtins.list(filter(lambda x:x%2==0,Items))\n",
        "print(even)\n"
      ],
      "metadata": {
        "colab": {
          "base_uri": "https://localhost:8080/"
        },
        "id": "67RIzatHUt7-",
        "outputId": "bc218a3b-e1d3-4e5a-e7f5-3abd51d46de5"
      },
      "execution_count": 177,
      "outputs": [
        {
          "output_type": "stream",
          "name": "stdout",
          "text": [
            "[10, 20, 30]\n"
          ]
        }
      ]
    },
    {
      "cell_type": "code",
      "source": [
        "#4) Write a one-liner lambda function to check if a given number is a palindrome"
      ],
      "metadata": {
        "id": "pX3CxA8Auc1_"
      },
      "execution_count": 151,
      "outputs": []
    },
    {
      "cell_type": "code",
      "source": [
        "#ans)\n",
        "is_palindrome = lambda num: str(num) == str(num)[::-1]\n",
        "is_palindrome(121)\n"
      ],
      "metadata": {
        "colab": {
          "base_uri": "https://localhost:8080/"
        },
        "id": "E6ygrF99ugPv",
        "outputId": "695c79ad-2fd9-46d9-ca22-eac77d42d12d"
      },
      "execution_count": 154,
      "outputs": [
        {
          "output_type": "execute_result",
          "data": {
            "text/plain": [
              "True"
            ]
          },
          "metadata": {},
          "execution_count": 154
        }
      ]
    },
    {
      "cell_type": "code",
      "source": [
        "#6)Write a function that uses **kwargs to accept a student’s details (name, age, and grade) and print them in a formatted string."
      ],
      "metadata": {
        "id": "qDDsgc6Bh_Qz"
      },
      "execution_count": 77,
      "outputs": []
    },
    {
      "cell_type": "code",
      "source": [
        "#ans)\n",
        "def print_student_details(**kwargs):\n",
        "  name = kwargs.get('name', 'Unknown')\n",
        "  age = kwargs.get('age', 'N/A')\n",
        "  grade = kwargs.get('grade', 'N/A')\n",
        "\n",
        "  # Printing the student details inside the function\n",
        "  print(f\"Student Name: {name}\") # Moved print statements inside the function\n",
        "  print(f\"Age: {age}\")\n",
        "  print(f\"Grade: {grade}\")\n",
        "\n",
        "# Calling the function with student details\n",
        "print_student_details(name=\"Appu\", age=18, grade=\"A\")"
      ],
      "metadata": {
        "colab": {
          "base_uri": "https://localhost:8080/"
        },
        "id": "pbTQQrxHiDQM",
        "outputId": "70d44a8f-49b8-4e58-a729-04dcc243469b"
      },
      "execution_count": 87,
      "outputs": [
        {
          "output_type": "stream",
          "name": "stdout",
          "text": [
            "Student Name: Appu\n",
            "Age: 18\n",
            "Grade: A\n"
          ]
        }
      ]
    },
    {
      "cell_type": "code",
      "source": [
        "#7) Create a class Person with attributes name and age. Add a method greet that prints a greeting with the name.\n",
        "#Create an object of the class and call the greet method.\n"
      ],
      "metadata": {
        "id": "RrnqfyzKvP4R"
      },
      "execution_count": 157,
      "outputs": []
    },
    {
      "cell_type": "code",
      "source": [
        "#ans)\n",
        "class Person:\n",
        "  def __init__(self, name, age):\n",
        "    self.name = name\n",
        "    self.age = age\n",
        "\n",
        "  def greet(self):\n",
        "    print(f\"Hello, my name is {self.name} and I am {self.age} years old.\")"
      ],
      "metadata": {
        "id": "lZ5B8pPDvaaH"
      },
      "execution_count": 159,
      "outputs": []
    },
    {
      "cell_type": "code",
      "source": [
        "#8)Create a base class Animal with a method speak that prints \"I am an animal.\"\n",
        "#Create a derived class Dog that overrides the speak method to print \"I am a\n",
        "#dog."
      ],
      "metadata": {
        "id": "n3-Yq1tNv6C0"
      },
      "execution_count": 160,
      "outputs": []
    },
    {
      "cell_type": "code",
      "source": [
        "#ans)\n",
        "class Animal:\n",
        "  def speak(self):\n",
        "    print(\"I am an animal.\")\n",
        "\n",
        "class Dog(Animal):\n",
        "  def speak(self):\n",
        "    print(\"I am a dog.\")\n"
      ],
      "metadata": {
        "id": "BEupGr7OwQyf"
      },
      "execution_count": 161,
      "outputs": []
    },
    {
      "cell_type": "code",
      "source": [
        "#10)Write a program to print the first 10 natural numbers using a for loop"
      ],
      "metadata": {
        "id": "WgZWzwp3cxw-"
      },
      "execution_count": 60,
      "outputs": []
    },
    {
      "cell_type": "code",
      "source": [
        "#ans)\n",
        "for i in range(0,11):\n",
        "  print(i)"
      ],
      "metadata": {
        "colab": {
          "base_uri": "https://localhost:8080/"
        },
        "id": "OGUisVBoc_25",
        "outputId": "2bc4d783-47f5-46f3-d5f4-80b17aaba775"
      },
      "execution_count": 65,
      "outputs": [
        {
          "output_type": "stream",
          "name": "stdout",
          "text": [
            "0\n",
            "1\n",
            "2\n",
            "3\n",
            "4\n",
            "5\n",
            "6\n",
            "7\n",
            "8\n",
            "9\n",
            "10\n"
          ]
        }
      ]
    },
    {
      "cell_type": "code",
      "source": [
        "#11)Write a program to calculate the sum of all numbers in a list: [5, 10, 15, 20] using a for loop"
      ],
      "metadata": {
        "id": "HENtXEcXXHZx"
      },
      "execution_count": 48,
      "outputs": []
    },
    {
      "cell_type": "code",
      "source": [
        "#ans)\n",
        "#for llop is used to iterating over a sequence which may be a list,tuple,dictionary,set or a string\n",
        "sum=0\n",
        "list=[5,10,15,20]\n",
        "for i in list:\n",
        "    sum=sum+i\n",
        "print(sum)"
      ],
      "metadata": {
        "colab": {
          "base_uri": "https://localhost:8080/"
        },
        "id": "8frW2P-6XXHg",
        "outputId": "8f64ae07-20c5-44f4-af94-dacb38f1da99"
      },
      "execution_count": 46,
      "outputs": [
        {
          "output_type": "stream",
          "name": "stdout",
          "text": [
            "50\n"
          ]
        }
      ]
    },
    {
      "cell_type": "code",
      "source": [
        "#12)Write a Python program to print the multiplication table of a given number using a while loop."
      ],
      "metadata": {
        "id": "MEO0U-mNXchC"
      },
      "execution_count": null,
      "outputs": []
    },
    {
      "cell_type": "code",
      "source": [
        "#ans)\n",
        "# In while loop we can execute a set of statements as long as the condition is true\n",
        "num=int(input('enter a number'))\n",
        "i=1\n",
        "while i<=10:\n",
        "  print(f\"{num} x {i} = {num * i}\")\n",
        "  i=i+1\n"
      ],
      "metadata": {
        "colab": {
          "base_uri": "https://localhost:8080/"
        },
        "id": "MFIekGvAYOoR",
        "outputId": "b10165f1-8208-4aff-ca6e-b5e25bd2278d"
      },
      "execution_count": 45,
      "outputs": [
        {
          "output_type": "stream",
          "name": "stdout",
          "text": [
            "enter a number6\n",
            "6 x 1 = 6\n",
            "6 x 2 = 12\n",
            "6 x 3 = 18\n",
            "6 x 4 = 24\n",
            "6 x 5 = 30\n",
            "6 x 6 = 36\n",
            "6 x 7 = 42\n",
            "6 x 8 = 48\n",
            "6 x 9 = 54\n",
            "6 x 10 = 60\n"
          ]
        }
      ]
    },
    {
      "cell_type": "code",
      "source": [
        "#14)Write a Python program to check if a number entered by the user is even or odd"
      ],
      "metadata": {
        "id": "bBpkAVBfY4HV"
      },
      "execution_count": 42,
      "outputs": []
    },
    {
      "cell_type": "code",
      "source": [
        "#ans)\n",
        "num=int(input('enter a number'))\n",
        "if num%2==0:\n",
        "    print(f'{num} is even')\n",
        "else:\n",
        "    print(f'{num} is odd')"
      ],
      "metadata": {
        "colab": {
          "base_uri": "https://localhost:8080/"
        },
        "id": "x6XUD_pWbTTQ",
        "outputId": "e6a31838-7d35-43bc-a37d-874d573c4320"
      },
      "execution_count": 44,
      "outputs": [
        {
          "output_type": "stream",
          "name": "stdout",
          "text": [
            "enter a number6\n",
            "6 is even\n"
          ]
        }
      ]
    },
    {
      "cell_type": "code",
      "source": [
        "#15).Write a Python program to determine the grade of a student based on their marks:\n",
        "#• Marks >= 90: Grade A\n",
        "#• Marks >= 75: Grade B\n",
        "#• Marks >= 50: Grade C\n",
        "#• Otherwise: Grade F"
      ],
      "metadata": {
        "id": "1TpSpSpiU4O0"
      },
      "execution_count": 50,
      "outputs": []
    },
    {
      "cell_type": "code",
      "source": [
        "#ans)\n",
        "#we can use input  for entering a value ,incase of integers we can use int with this.\n",
        "#if statement is the most basic conditional statement.The elif statement is usec to check the additional conditions if the preceding if is false\n",
        "marks=int(input('enter your marks'))\n",
        "if marks>=90:\n",
        "    print('Grade A')\n",
        "elif marks>=75:\n",
        "    print('Grade B')\n",
        "elif marks>=50:\n",
        "    print('Grade C')\n",
        "else:\n",
        "    print('Grade F')"
      ],
      "metadata": {
        "colab": {
          "base_uri": "https://localhost:8080/"
        },
        "id": "7tKYz2DkWABn",
        "outputId": "17d5c43b-2a96-4a9a-95ae-eee152c4236f"
      },
      "execution_count": 49,
      "outputs": [
        {
          "output_type": "stream",
          "name": "stdout",
          "text": [
            "enter your marks8\n",
            "Grade F\n"
          ]
        }
      ]
    },
    {
      "cell_type": "code",
      "source": [
        "#19)Write a Python program to reverse a string using a for loop."
      ],
      "metadata": {
        "id": "XH5eLj43cKDr"
      },
      "execution_count": null,
      "outputs": []
    },
    {
      "cell_type": "code",
      "source": [
        "#ans)\n",
        "string=input('enter a string')\n",
        "reverse=''\n",
        "for i in string:\n",
        "    reverse=i+reverse\n",
        "print(reverse)"
      ],
      "metadata": {
        "colab": {
          "base_uri": "https://localhost:8080/"
        },
        "id": "t3nIIMcIcZpU",
        "outputId": "402a25fe-6fe9-40cb-dcdc-bb5c78d6269a"
      },
      "execution_count": 58,
      "outputs": [
        {
          "output_type": "stream",
          "name": "stdout",
          "text": [
            "enter a stringhi\n",
            "ih\n"
          ]
        }
      ]
    },
    {
      "cell_type": "code",
      "source": [
        "#20)Write a Python program to count the number of vowels in a string entered by the user."
      ],
      "metadata": {
        "id": "aNED7HtQwgFd"
      },
      "execution_count": 164,
      "outputs": []
    },
    {
      "cell_type": "code",
      "source": [
        "#ans)\n",
        "string=input('enter a string')\n",
        "count=0\n",
        "for i in string:\n",
        "    if i in 'aeiouAEIOU':\n",
        "        count=count+1\n",
        "print(count)"
      ],
      "metadata": {
        "colab": {
          "base_uri": "https://localhost:8080/"
        },
        "id": "wmM30rl8wi0S",
        "outputId": "5c4b9b1a-ff55-4c4c-d824-57880a352be0"
      },
      "execution_count": 163,
      "outputs": [
        {
          "output_type": "stream",
          "name": "stdout",
          "text": [
            "enter a stringkitty\n",
            "1\n"
          ]
        }
      ]
    },
    {
      "cell_type": "markdown",
      "source": [
        "Numpy Questions"
      ],
      "metadata": {
        "id": "7QCALA_bjbD5"
      }
    },
    {
      "cell_type": "code",
      "source": [
        "import numpy as np\n"
      ],
      "metadata": {
        "id": "5zhjKcoQkT8A"
      },
      "execution_count": 90,
      "outputs": []
    },
    {
      "cell_type": "code",
      "source": [
        "#Numpy is a python library for numerical data processing"
      ],
      "metadata": {
        "id": "vhsZ5E7Rkjpj"
      },
      "execution_count": 92,
      "outputs": []
    },
    {
      "cell_type": "code",
      "source": [
        "#1) Create a NumPy array of zeros with shape (3, 4)."
      ],
      "metadata": {
        "id": "V4WZyUnddX1Q"
      },
      "execution_count": 88,
      "outputs": []
    },
    {
      "cell_type": "code",
      "source": [
        "#ans)\n",
        "print(\"vector of zeros \\n---------\")\n",
        "print(np.zeros([3,4]))"
      ],
      "metadata": {
        "colab": {
          "base_uri": "https://localhost:8080/"
        },
        "id": "fen9-RqBj3or",
        "outputId": "22c89482-27c6-4937-e5b3-2bd688599593"
      },
      "execution_count": 94,
      "outputs": [
        {
          "output_type": "stream",
          "name": "stdout",
          "text": [
            "vector of zeros \n",
            "---------\n",
            "[[0. 0. 0. 0.]\n",
            " [0. 0. 0. 0.]\n",
            " [0. 0. 0. 0.]]\n"
          ]
        }
      ]
    },
    {
      "cell_type": "code",
      "source": [
        "#2) Create a NumPy array of ones with shape (2, 5)."
      ],
      "metadata": {
        "id": "C_RzzLHIkSzK"
      },
      "execution_count": 93,
      "outputs": []
    },
    {
      "cell_type": "code",
      "source": [
        "#ans)\n",
        "print(\"vector of ones \\n------------\")\n",
        "print(np.ones([2,5]))"
      ],
      "metadata": {
        "colab": {
          "base_uri": "https://localhost:8080/"
        },
        "id": "JKCxV3CPk4x7",
        "outputId": "f4b53370-5537-48d9-9981-ebc881aa8704"
      },
      "execution_count": 95,
      "outputs": [
        {
          "output_type": "stream",
          "name": "stdout",
          "text": [
            "vector of ones \n",
            "------------\n",
            "[[1. 1. 1. 1. 1.]\n",
            " [1. 1. 1. 1. 1.]]\n"
          ]
        }
      ]
    },
    {
      "cell_type": "code",
      "source": [
        "#3) Create a NumPy matrix with the values from 1 to 10 using np.arange().\n"
      ],
      "metadata": {
        "id": "F3FtaNiClDes"
      },
      "execution_count": 96,
      "outputs": []
    },
    {
      "cell_type": "code",
      "source": [
        "#ans)\n",
        "x=np.arange(1,11).reshape(2,5)\n",
        "print(x)"
      ],
      "metadata": {
        "colab": {
          "base_uri": "https://localhost:8080/"
        },
        "id": "NbH3wbx3lMNd",
        "outputId": "018b6e94-510e-4471-c286-f30363664c8d"
      },
      "execution_count": 98,
      "outputs": [
        {
          "output_type": "stream",
          "name": "stdout",
          "text": [
            "[[ 1  2  3  4  5]\n",
            " [ 6  7  8  9 10]]\n"
          ]
        }
      ]
    },
    {
      "cell_type": "code",
      "source": [
        "#4)Create a NumPy array with numbers from 0 to 1 (inclusive) with a step size of 0.1  using np.arange()"
      ],
      "metadata": {
        "id": "XtEF-7dtljvE"
      },
      "execution_count": 99,
      "outputs": []
    },
    {
      "cell_type": "code",
      "source": [
        "#ans)\n",
        "y=np.arange(0,1,0.1)\n",
        "y\n"
      ],
      "metadata": {
        "colab": {
          "base_uri": "https://localhost:8080/"
        },
        "id": "VCgNIh4Ol-BP",
        "outputId": "a0920e0d-8099-4675-bd2b-ec6c665a360c"
      },
      "execution_count": 102,
      "outputs": [
        {
          "output_type": "execute_result",
          "data": {
            "text/plain": [
              "array([0. , 0.1, 0.2, 0.3, 0.4, 0.5, 0.6, 0.7, 0.8, 0.9])"
            ]
          },
          "metadata": {},
          "execution_count": 102
        }
      ]
    },
    {
      "cell_type": "code",
      "source": [
        "#5) Create a NumPy array with 10 equally spaced values between 0 and 1 using np.linspace() with endpoint=False.\n"
      ],
      "metadata": {
        "id": "LCM1bEPZmOo1"
      },
      "execution_count": 103,
      "outputs": []
    },
    {
      "cell_type": "code",
      "source": [
        "#ans)\n",
        "#linspace is very useful for generating a specified number of evenly spaced points between a given range\n",
        "z=np.linspace(0,1,10,endpoint=False)\n",
        "z\n"
      ],
      "metadata": {
        "colab": {
          "base_uri": "https://localhost:8080/"
        },
        "id": "Mgp_OJkYmpZa",
        "outputId": "571dc90c-ee49-4bf9-f70a-9f84701f751f"
      },
      "execution_count": 117,
      "outputs": [
        {
          "output_type": "execute_result",
          "data": {
            "text/plain": [
              "array([0. , 0.1, 0.2, 0.3, 0.4, 0.5, 0.6, 0.7, 0.8, 0.9])"
            ]
          },
          "metadata": {},
          "execution_count": 117
        }
      ]
    },
    {
      "cell_type": "code",
      "source": [
        "#6) Write a NumPy program to compute the square root of each element in the array [1, 4, 9, 16].\n",
        "#square root of a function is finding using the function sqrt"
      ],
      "metadata": {
        "id": "Wx7vvNK8mukR"
      },
      "execution_count": 118,
      "outputs": []
    },
    {
      "cell_type": "code",
      "source": [
        "#ans)\n",
        "a=np.array([1,4,9,16])\n",
        "np.sqrt(a)"
      ],
      "metadata": {
        "colab": {
          "base_uri": "https://localhost:8080/"
        },
        "id": "d2eiGDqam7Gq",
        "outputId": "dd7e1c28-5b3b-45fc-a526-ffe268651f82"
      },
      "execution_count": 106,
      "outputs": [
        {
          "output_type": "execute_result",
          "data": {
            "text/plain": [
              "array([1., 2., 3., 4.])"
            ]
          },
          "metadata": {},
          "execution_count": 106
        }
      ]
    },
    {
      "cell_type": "code",
      "source": [
        "#7) Compute the sum of all elements in the array np.array([2, 3, 4, 5, 6])\n"
      ],
      "metadata": {
        "id": "-eoQvYEMm_pW"
      },
      "execution_count": 107,
      "outputs": []
    },
    {
      "cell_type": "code",
      "source": [
        "#ans)\n",
        "#sum() function is used for finding sum of sequence\n",
        "b=np.array([2,3,4,5,6])\n",
        "np.sum(b)"
      ],
      "metadata": {
        "colab": {
          "base_uri": "https://localhost:8080/"
        },
        "id": "6_KM1kkxnHOu",
        "outputId": "c1908923-a49b-4dbc-bec6-e4ff9f55dc90"
      },
      "execution_count": 119,
      "outputs": [
        {
          "output_type": "execute_result",
          "data": {
            "text/plain": [
              "20"
            ]
          },
          "metadata": {},
          "execution_count": 119
        }
      ]
    },
    {
      "cell_type": "code",
      "source": [
        "#8) Find the minimum value in the array np.array([1, 5, 9, 3, 6]) using np.min()."
      ],
      "metadata": {
        "id": "2m4O3pvknLRZ"
      },
      "execution_count": 109,
      "outputs": []
    },
    {
      "cell_type": "code",
      "source": [
        "#ans)\n",
        "#using np.min() we can calculate  minimum of a sequence\n",
        "c=np.array([1,5,9,3,6])\n",
        "np.min(c)"
      ],
      "metadata": {
        "colab": {
          "base_uri": "https://localhost:8080/"
        },
        "id": "S3lh5Cj1nVqH",
        "outputId": "69ab14df-10f4-4f31-e03c-e1c0222ef1a7"
      },
      "execution_count": 110,
      "outputs": [
        {
          "output_type": "execute_result",
          "data": {
            "text/plain": [
              "1"
            ]
          },
          "metadata": {},
          "execution_count": 110
        }
      ]
    },
    {
      "cell_type": "code",
      "source": [
        "#9)Find the maximum value in the array np.array([1, 5, 9, 3, 6]) using np.max().\n"
      ],
      "metadata": {
        "id": "FU7Ja_IbnY_4"
      },
      "execution_count": 111,
      "outputs": []
    },
    {
      "cell_type": "code",
      "source": [
        "#ans)\n",
        "#np.max is used for calculating the maximum of a sequence\n",
        "d=np.array([1,5,9,3,6])\n",
        "np.max(d)"
      ],
      "metadata": {
        "colab": {
          "base_uri": "https://localhost:8080/"
        },
        "id": "eyA2Eq4TnhUL",
        "outputId": "fd01098b-368d-4754-9195-c3b3d2116468"
      },
      "execution_count": 120,
      "outputs": [
        {
          "output_type": "execute_result",
          "data": {
            "text/plain": [
              "9"
            ]
          },
          "metadata": {},
          "execution_count": 120
        }
      ]
    },
    {
      "cell_type": "code",
      "source": [
        "#10)Use np.ceil() to round the elements of the array np.array([1.2, 2.5, 3.7, 4.9]) to the nearest greater integer.\n"
      ],
      "metadata": {
        "id": "-wkWTpS9nlG-"
      },
      "execution_count": 113,
      "outputs": []
    },
    {
      "cell_type": "code",
      "source": [
        "#ans)\n",
        "#ceil() function is used for rounding off decimal to nearest integer\n",
        "e=np.array([1.2,2.5,3.7,4.9])\n",
        "np.ceil(e)"
      ],
      "metadata": {
        "colab": {
          "base_uri": "https://localhost:8080/"
        },
        "id": "J6Yjfz9Nnt4x",
        "outputId": "2777a4a2-4844-4018-9411-4202fd7b1706"
      },
      "execution_count": 121,
      "outputs": [
        {
          "output_type": "execute_result",
          "data": {
            "text/plain": [
              "array([2., 3., 4., 5.])"
            ]
          },
          "metadata": {},
          "execution_count": 121
        }
      ]
    },
    {
      "cell_type": "code",
      "source": [
        "#11)Generate an array of 5 random integers between 10 and 50 using np.random.randint()"
      ],
      "metadata": {
        "id": "Z8e4M30Znz7L"
      },
      "execution_count": 115,
      "outputs": []
    },
    {
      "cell_type": "code",
      "source": [
        "#ans)\n",
        "#np.random.randint() is used for generating random integers\n",
        "f=np.random.randint(10,50,5)\n",
        "f\n"
      ],
      "metadata": {
        "colab": {
          "base_uri": "https://localhost:8080/"
        },
        "id": "oUlpSmDXn9fo",
        "outputId": "51fb1a93-549e-49ca-bb9c-9f928985867f"
      },
      "execution_count": 122,
      "outputs": [
        {
          "output_type": "execute_result",
          "data": {
            "text/plain": [
              "array([13, 48, 13, 13, 18])"
            ]
          },
          "metadata": {},
          "execution_count": 122
        }
      ]
    },
    {
      "cell_type": "code",
      "source": [
        "#12)Generate an array of 5 random floating-point numbers between 0 and 1 using np.random.rand()."
      ],
      "metadata": {
        "id": "NCum5JvpoDhM"
      },
      "execution_count": 123,
      "outputs": []
    },
    {
      "cell_type": "code",
      "source": [
        "#ans)\n",
        "#np.random.rand() is used for generating random floating point numbers\n",
        "g=np.random.rand(5)\n",
        "g\n"
      ],
      "metadata": {
        "colab": {
          "base_uri": "https://localhost:8080/"
        },
        "id": "QsNYs78Mp0Id",
        "outputId": "1f078609-e9fc-4b94-b951-095877f24eb8"
      },
      "execution_count": 124,
      "outputs": [
        {
          "output_type": "execute_result",
          "data": {
            "text/plain": [
              "array([0.29118502, 0.38365895, 0.35123255, 0.27426795, 0.69328156])"
            ]
          },
          "metadata": {},
          "execution_count": 124
        }
      ]
    },
    {
      "cell_type": "code",
      "source": [
        "#13)Generate a 3x3 matrix of random numbers from a normal distribution with mean 0 and standard deviation 1 using np.random.randn().\n"
      ],
      "metadata": {
        "id": "UDvjNbeYp51h"
      },
      "execution_count": 126,
      "outputs": []
    },
    {
      "cell_type": "code",
      "source": [
        "#ans)\n",
        "#random.randn() is used for generating random numbers from a normal distribution\n",
        "c=np.random.randn(3,3)\n",
        "print('matrix','\\n',c)\n",
        "\n"
      ],
      "metadata": {
        "colab": {
          "base_uri": "https://localhost:8080/"
        },
        "id": "YRu6-FtyqD55",
        "outputId": "47cf3f99-516a-411c-ce4a-d7b3dd574efb"
      },
      "execution_count": 131,
      "outputs": [
        {
          "output_type": "stream",
          "name": "stdout",
          "text": [
            "matrix \n",
            " [[ 0.29339455 -0.08396164 -0.99030724]\n",
            " [-0.511256    0.09066385 -0.22718146]\n",
            " [ 0.08845034 -1.47470181  2.33601864]]\n"
          ]
        }
      ]
    },
    {
      "cell_type": "code",
      "source": [
        "#14)Use np.where() to replace all elements greater than 5 in the array [1, 2, 3, 6, 7, 8] with 10"
      ],
      "metadata": {
        "id": "wjOxQA7BqXEi"
      },
      "execution_count": 133,
      "outputs": []
    },
    {
      "cell_type": "code",
      "source": [
        "#ans)\n",
        "#np.where is used for finding the index of a condition\n",
        "list=np.array([1,2,3,6,7,8])\n",
        "np.where((list)>5,10,list)\n",
        "\n"
      ],
      "metadata": {
        "colab": {
          "base_uri": "https://localhost:8080/"
        },
        "id": "kMJSKw8lq7tS",
        "outputId": "9bd44da1-6c8b-4157-cb0f-6758dda9b437"
      },
      "execution_count": 136,
      "outputs": [
        {
          "output_type": "execute_result",
          "data": {
            "text/plain": [
              "array([ 1,  2,  3, 10, 10, 10])"
            ]
          },
          "metadata": {},
          "execution_count": 136
        }
      ]
    },
    {
      "cell_type": "code",
      "source": [
        "#15)Use np.where() to find the index of the first element that is greater than 3 in the array [1, 2, 3, 4, 5]."
      ],
      "metadata": {
        "id": "-eQheBB1rKc1"
      },
      "execution_count": 138,
      "outputs": []
    },
    {
      "cell_type": "code",
      "source": [
        "#ans)\n",
        "list=np.array([1,2,3,4,5])\n",
        "np.where(list>3)\n"
      ],
      "metadata": {
        "colab": {
          "base_uri": "https://localhost:8080/"
        },
        "id": "HKpzfKWfsPqp",
        "outputId": "d2cf33a5-8689-47e9-d886-a26dde0f2b67"
      },
      "execution_count": 139,
      "outputs": [
        {
          "output_type": "execute_result",
          "data": {
            "text/plain": [
              "(array([3, 4]),)"
            ]
          },
          "metadata": {},
          "execution_count": 139
        }
      ]
    },
    {
      "cell_type": "code",
      "source": [
        "#16).Perform matrix addition of two matrices A = np.array([[1, 2], [3, 4]]) and B = np.array([[5, 6], [7, 8]])"
      ],
      "metadata": {
        "id": "dYbB0MGRsVrk"
      },
      "execution_count": 140,
      "outputs": []
    },
    {
      "cell_type": "code",
      "source": [
        "#ans)\n",
        "A=np.array([[1,2],[3,4]])\n",
        "B=np.array([[5,6],[7,8]])\n",
        "print(A+B)"
      ],
      "metadata": {
        "colab": {
          "base_uri": "https://localhost:8080/"
        },
        "id": "87Yj5oSXsehT",
        "outputId": "b36913f4-f1ea-4f7a-cf8a-24ecae43ac12"
      },
      "execution_count": 141,
      "outputs": [
        {
          "output_type": "stream",
          "name": "stdout",
          "text": [
            "[[ 6  8]\n",
            " [10 12]]\n"
          ]
        }
      ]
    },
    {
      "cell_type": "code",
      "source": [
        "#17)Perform element-wise matrix division of matrix A = np.array([[1, 2], [3, 4]]) by matrix B = np.array([[5, 6], [7, 8]])."
      ],
      "metadata": {
        "id": "9QLP2CF8sxfM"
      },
      "execution_count": 142,
      "outputs": []
    },
    {
      "cell_type": "code",
      "source": [
        "#ans)\n",
        "A=np.array([[1,2],[3,4]])\n",
        "B=np.array([[5,6],[7,8]])\n",
        "print(A/B)\n"
      ],
      "metadata": {
        "colab": {
          "base_uri": "https://localhost:8080/"
        },
        "id": "Vnvd816Vs2zq",
        "outputId": "046da908-2b24-44e3-92f6-0339d62f8567"
      },
      "execution_count": 143,
      "outputs": [
        {
          "output_type": "stream",
          "name": "stdout",
          "text": [
            "[[0.2        0.33333333]\n",
            " [0.42857143 0.5       ]]\n"
          ]
        }
      ]
    },
    {
      "cell_type": "code",
      "source": [
        "#18)Perform matrix multiplication of matrices A = np.array([[1, 2], [3, 4]]) and B = np.array([[5, 6], [7, 8]])."
      ],
      "metadata": {
        "id": "gL7ol-B3s8d5"
      },
      "execution_count": 144,
      "outputs": []
    },
    {
      "cell_type": "code",
      "source": [
        "#ans)\n",
        "h=np.array([[1,2],[3,4]])\n",
        "i=np.array([[5,6],[7,8]])\n",
        "print(np.dot(h,i))\n",
        "#"
      ],
      "metadata": {
        "colab": {
          "base_uri": "https://localhost:8080/"
        },
        "id": "NnFROSX5tObx",
        "outputId": "01fb6a42-679f-4f67-9a4b-e243b267eb4d"
      },
      "execution_count": 145,
      "outputs": [
        {
          "output_type": "stream",
          "name": "stdout",
          "text": [
            "[[19 22]\n",
            " [43 50]]\n"
          ]
        }
      ]
    },
    {
      "cell_type": "code",
      "source": [
        "#19)Reshape a 1D array [1, 2, 3, 4, 5, 6] into a 2x3 matrix using np.reshape()"
      ],
      "metadata": {
        "id": "HxiTYxgctTUP"
      },
      "execution_count": 146,
      "outputs": []
    },
    {
      "cell_type": "code",
      "source": [
        "#ans)\n",
        "#np.reshape is used  for reshaping a given array\n",
        "j=np.array([1,2,3,4,5,6])\n",
        "print(np.reshape(j,(2,3)))"
      ],
      "metadata": {
        "colab": {
          "base_uri": "https://localhost:8080/"
        },
        "id": "4_Xyu8HDtnnT",
        "outputId": "c5b4fc2d-7fc8-4d45-dbc9-ce82ff461681"
      },
      "execution_count": 148,
      "outputs": [
        {
          "output_type": "stream",
          "name": "stdout",
          "text": [
            "[[1 2 3]\n",
            " [4 5 6]]\n"
          ]
        }
      ]
    },
    {
      "cell_type": "code",
      "source": [
        "#20)Slice the first two elements from the array np.array([10, 20, 30, 40, 50])"
      ],
      "metadata": {
        "id": "geny-pyHtslu"
      },
      "execution_count": 149,
      "outputs": []
    },
    {
      "cell_type": "code",
      "source": [
        "#ans)\n",
        "#we can perform slicing in an array based on the index\n",
        "k=np.array([10,20,30,40,50])\n",
        "print(k[0:2])\n"
      ],
      "metadata": {
        "colab": {
          "base_uri": "https://localhost:8080/"
        },
        "id": "jCv3qJuBuCH9",
        "outputId": "6a5425fc-0454-4145-fcad-ae02390da929"
      },
      "execution_count": 150,
      "outputs": [
        {
          "output_type": "stream",
          "name": "stdout",
          "text": [
            "[10 20]\n"
          ]
        }
      ]
    },
    {
      "cell_type": "code",
      "source": [],
      "metadata": {
        "id": "6PSpxK4LuP20"
      },
      "execution_count": null,
      "outputs": []
    }
  ]
}