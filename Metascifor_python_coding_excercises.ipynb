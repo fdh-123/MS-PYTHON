{
  "nbformat": 4,
  "nbformat_minor": 0,
  "metadata": {
    "colab": {
      "provenance": []
    },
    "kernelspec": {
      "name": "python3",
      "display_name": "Python 3"
    },
    "language_info": {
      "name": "python"
    }
  },
  "cells": [
    {
      "cell_type": "markdown",
      "source": [
        "**Python Coding Excercises**"
      ],
      "metadata": {
        "id": "XwqaZpgttXo0"
      }
    },
    {
      "cell_type": "code",
      "execution_count": null,
      "metadata": {
        "id": "-Sf65tlYs_u7"
      },
      "outputs": [],
      "source": [
        "#1.1)Write a Python program to evaluate the expression `5 + 3 * 2` and print the result\n",
        "# Here we are using the arithematical operators addition(+) and multiplication(*)\n",
        "#the value of the expression is calculated according to BODMAS OF MATHS ,first multiplication then addition"
      ]
    },
    {
      "cell_type": "code",
      "source": [
        "#ans)\n",
        "formula=5+3*2\n",
        "formula"
      ],
      "metadata": {
        "colab": {
          "base_uri": "https://localhost:8080/"
        },
        "id": "WOZSGpQHun1e",
        "outputId": "fb690c1a-008f-4beb-89dc-209e5b7f5d58"
      },
      "execution_count": null,
      "outputs": [
        {
          "output_type": "execute_result",
          "data": {
            "text/plain": [
              "11"
            ]
          },
          "metadata": {},
          "execution_count": 413
        }
      ]
    },
    {
      "cell_type": "code",
      "source": [
        "#2. 2) Write a program that calculates the result of `2 ** 3 + 5'\n",
        "#used the arithemetical operators ** whichbgive the power of a number and + for addition"
      ],
      "metadata": {
        "id": "LC0dIeQWvg2g"
      },
      "execution_count": null,
      "outputs": []
    },
    {
      "cell_type": "code",
      "source": [
        "#ans)\n",
        "calculation=2**3+5\n",
        "print(calculation)"
      ],
      "metadata": {
        "colab": {
          "base_uri": "https://localhost:8080/"
        },
        "id": "4j1iHIYuwBRI",
        "outputId": "ec2fd2fc-a580-4978-8f31-7c25b4e714ce"
      },
      "execution_count": null,
      "outputs": [
        {
          "output_type": "stream",
          "name": "stdout",
          "text": [
            "13\n"
          ]
        }
      ]
    },
    {
      "cell_type": "code",
      "source": [
        "#3. 3) Create a program that calculates the result of the expression `(10 - 3) * (2 +4)'\n",
        "#used subtraction(-),addition(+),multiplication(*) -arithematical operators\n"
      ],
      "metadata": {
        "id": "6xkQl6qjwDT3"
      },
      "execution_count": null,
      "outputs": []
    },
    {
      "cell_type": "code",
      "source": [
        "#ans)\n",
        "expression=(10-3)*(2+4)\n",
        "print(expression)"
      ],
      "metadata": {
        "colab": {
          "base_uri": "https://localhost:8080/"
        },
        "id": "1gJIFo3jwuTE",
        "outputId": "4223a308-bd6e-4995-deee-a5e0724745a8"
      },
      "execution_count": null,
      "outputs": [
        {
          "output_type": "stream",
          "name": "stdout",
          "text": [
            "42\n"
          ]
        }
      ]
    },
    {
      "cell_type": "code",
      "source": [
        "#4. 4)Write a program that calculates `15 // 4` and prints the result\n",
        "#here floor division(//) arithemetical operator is used-it is used to rounds down to the nearest integer."
      ],
      "metadata": {
        "id": "TbLxGd7Hw5fT"
      },
      "execution_count": null,
      "outputs": []
    },
    {
      "cell_type": "code",
      "source": [
        "#ans)\n",
        "expression=15//4\n",
        "print(expression)"
      ],
      "metadata": {
        "colab": {
          "base_uri": "https://localhost:8080/"
        },
        "id": "RjtF7OJRxJ_d",
        "outputId": "3624c323-4fce-4163-aca8-dc6baff3a000"
      },
      "execution_count": null,
      "outputs": [
        {
          "output_type": "stream",
          "name": "stdout",
          "text": [
            "3\n"
          ]
        }
      ]
    },
    {
      "cell_type": "code",
      "source": [
        "#5. 5) Write a Python code to find the remainder when dividing 15 by 4 (`15 % 4`).\n",
        "#here we are using the arithemetical operator % which is used for finding the remainder while division"
      ],
      "metadata": {
        "id": "Cn-49JXAxKeZ"
      },
      "execution_count": null,
      "outputs": []
    },
    {
      "cell_type": "code",
      "source": [
        "#ans)\n",
        "code=15%4\n",
        "print(code)"
      ],
      "metadata": {
        "colab": {
          "base_uri": "https://localhost:8080/"
        },
        "id": "VudIJtrwxad0",
        "outputId": "44f51fc5-39b1-47dd-a0d9-b92da1c80bef"
      },
      "execution_count": null,
      "outputs": [
        {
          "output_type": "stream",
          "name": "stdout",
          "text": [
            "3\n"
          ]
        }
      ]
    },
    {
      "cell_type": "code",
      "source": [
        "#6. 6)Create a variable `x` and assign it the value 42. Print its type using `type()`.\n",
        "# variables are used to store a value and type function is used to find the type of varaible which may be integer,string list etc"
      ],
      "metadata": {
        "id": "cDSNhzGBxbJA"
      },
      "execution_count": null,
      "outputs": []
    },
    {
      "cell_type": "code",
      "source": [
        "#ans)\n",
        "x=42\n",
        "print(type(x))\n"
      ],
      "metadata": {
        "colab": {
          "base_uri": "https://localhost:8080/"
        },
        "id": "XcCo-CnkxifY",
        "outputId": "9ddeb6dd-67a7-4342-9883-2641e4bb7063"
      },
      "execution_count": null,
      "outputs": [
        {
          "output_type": "stream",
          "name": "stdout",
          "text": [
            "<class 'int'>\n"
          ]
        }
      ]
    },
    {
      "cell_type": "code",
      "source": [
        "#7. 7) Create a list `fruits = ['apple', 'banana', 'cherry']`. Print the type of this list.\n",
        "#list is a mutable ordered collection of items"
      ],
      "metadata": {
        "id": "6J3jzC-axjsa"
      },
      "execution_count": null,
      "outputs": []
    },
    {
      "cell_type": "code",
      "source": [
        "#ans)\n",
        "fruits=['apple','banana','cherry']\n",
        "print(type(fruits))"
      ],
      "metadata": {
        "colab": {
          "base_uri": "https://localhost:8080/"
        },
        "id": "l9YpL4BAxsup",
        "outputId": "01ffd05d-4a72-4970-b00e-be25e8f392c1"
      },
      "execution_count": null,
      "outputs": [
        {
          "output_type": "stream",
          "name": "stdout",
          "text": [
            "<class 'list'>\n"
          ]
        }
      ]
    },
    {
      "cell_type": "code",
      "source": [
        "#8. 8)Create a variable `is_active = True`. Print the type of the variable"
      ],
      "metadata": {
        "id": "wZfuxLGwxyC2"
      },
      "execution_count": null,
      "outputs": []
    },
    {
      "cell_type": "code",
      "source": [
        "#ans)\n",
        "is_active='True'\n",
        "print(type(is_active))\n"
      ],
      "metadata": {
        "colab": {
          "base_uri": "https://localhost:8080/"
        },
        "id": "DQX_rJ55x9Uw",
        "outputId": "f93051e1-71f9-4981-ac63-838ac6cf5dde"
      },
      "execution_count": null,
      "outputs": [
        {
          "output_type": "stream",
          "name": "stdout",
          "text": [
            "<class 'str'>\n"
          ]
        }
      ]
    },
    {
      "cell_type": "code",
      "source": [
        "#9. 9) Create a variable `price = 3.14`. Print its type."
      ],
      "metadata": {
        "id": "CNppvTMix95L"
      },
      "execution_count": null,
      "outputs": []
    },
    {
      "cell_type": "code",
      "source": [
        "#ans)\n",
        "price=3.14\n",
        "print(type(price))"
      ],
      "metadata": {
        "colab": {
          "base_uri": "https://localhost:8080/"
        },
        "id": "BdEK5A-NyNOO",
        "outputId": "979e011b-26e6-4b71-e338-881af2f424f9"
      },
      "execution_count": null,
      "outputs": [
        {
          "output_type": "stream",
          "name": "stdout",
          "text": [
            "<class 'float'>\n"
          ]
        }
      ]
    },
    {
      "cell_type": "code",
      "source": [
        "#10. 10) Write a program to print the type of the string `'Hello World'`."
      ],
      "metadata": {
        "id": "68YTDspNyOGJ"
      },
      "execution_count": null,
      "outputs": []
    },
    {
      "cell_type": "code",
      "source": [
        "#ans)\n",
        "word='Hello Word'\n",
        "print(type(word))"
      ],
      "metadata": {
        "colab": {
          "base_uri": "https://localhost:8080/"
        },
        "id": "8pjG_itL2NNN",
        "outputId": "deafd0eb-fae3-4751-bdb9-402f1bf38acf"
      },
      "execution_count": null,
      "outputs": [
        {
          "output_type": "stream",
          "name": "stdout",
          "text": [
            "<class 'str'>\n"
          ]
        }
      ]
    },
    {
      "cell_type": "code",
      "source": [
        "#11. 11) Create a list of your 3 favorite fruits and print it."
      ],
      "metadata": {
        "id": "EPdIQczu2Xvi"
      },
      "execution_count": null,
      "outputs": []
    },
    {
      "cell_type": "code",
      "source": [
        "#ans)\n",
        "fruits=['orange','pineapple','grapes']\n",
        "print(fruits)"
      ],
      "metadata": {
        "colab": {
          "base_uri": "https://localhost:8080/"
        },
        "id": "SCCPt6SI7Mfa",
        "outputId": "ea436533-d237-4dc4-8fc4-154b53dbec5a"
      },
      "execution_count": null,
      "outputs": [
        {
          "output_type": "stream",
          "name": "stdout",
          "text": [
            "['orange', 'pineapple', 'grapes']\n"
          ]
        }
      ]
    },
    {
      "cell_type": "code",
      "source": [
        "#12. 12) Convert a tuple `('apple', 'banana', 'cherry')` into a list. Print the new list.\n",
        "#A tuple in Python is a collection data type that is Ordered,Immutable,Heterogeneous\n",
        "#list is a mutable ordered collection of items."
      ],
      "metadata": {
        "id": "SAVQKFIt7Z3W"
      },
      "execution_count": null,
      "outputs": []
    },
    {
      "cell_type": "code",
      "source": [
        "from builtins import *"
      ],
      "metadata": {
        "id": "dW1zbKW6dVZK"
      },
      "execution_count": null,
      "outputs": []
    },
    {
      "cell_type": "code",
      "source": [
        "tup=('apple','banana','cherry')\n",
        "new=list(tup)\n",
        "print(new)"
      ],
      "metadata": {
        "colab": {
          "base_uri": "https://localhost:8080/"
        },
        "id": "m2Tw4NycXgTb",
        "outputId": "0e738a52-b26d-4ac5-b945-03575cc7848a"
      },
      "execution_count": null,
      "outputs": [
        {
          "output_type": "stream",
          "name": "stdout",
          "text": [
            "['apple', 'banana', 'cherry']\n"
          ]
        }
      ]
    },
    {
      "cell_type": "code",
      "source": [
        "#13. 13) Create a list `my_list = [10, 20, 30]`. Access and print the first element of the list\n",
        "#In list indexing is possible and the index of first element is zero,for second element it is one and so on"
      ],
      "metadata": {
        "id": "elhV-aoJ8beH"
      },
      "execution_count": null,
      "outputs": []
    },
    {
      "cell_type": "code",
      "source": [
        "#ans)\n",
        "my_list=[10,20,30]\n",
        "print(my_list[0])"
      ],
      "metadata": {
        "id": "KPow_jc-9Ar8",
        "colab": {
          "base_uri": "https://localhost:8080/"
        },
        "outputId": "70d7a078-9758-4c29-b13c-8063c02bccd3"
      },
      "execution_count": null,
      "outputs": [
        {
          "output_type": "stream",
          "name": "stdout",
          "text": [
            "10\n"
          ]
        }
      ]
    },
    {
      "cell_type": "code",
      "source": [
        "#14. 14) Find the length of the list `[10, 20, 30]` and print it.\n",
        "#len()function is used for finding the length (number of items)"
      ],
      "metadata": {
        "id": "ejmyre3p9gKW"
      },
      "execution_count": null,
      "outputs": []
    },
    {
      "cell_type": "code",
      "source": [
        "#ans)\n",
        "list=[10,20,30]\n",
        "print(len(list))"
      ],
      "metadata": {
        "id": "B36sirRT_uWy",
        "colab": {
          "base_uri": "https://localhost:8080/"
        },
        "outputId": "d338a9df-919b-4279-e3dd-9c0fb04d0435"
      },
      "execution_count": null,
      "outputs": [
        {
          "output_type": "stream",
          "name": "stdout",
          "text": [
            "3\n"
          ]
        }
      ]
    },
    {
      "cell_type": "code",
      "source": [
        "#15. 15)Add the element `40` to the list `my_list = [10, 20, 30]` and print the updated list\n",
        "#append function is used for adding an element into the existing list or tuple\n"
      ],
      "metadata": {
        "id": "3sP80exVALNZ"
      },
      "execution_count": null,
      "outputs": []
    },
    {
      "cell_type": "code",
      "source": [
        "#ans)\n",
        "my_list=[10,20,30]\n",
        "my_list.append(40)\n",
        "print(my_list)"
      ],
      "metadata": {
        "id": "Cif-DCxMA8oc",
        "colab": {
          "base_uri": "https://localhost:8080/"
        },
        "outputId": "e5796267-48ca-471a-f270-4fe7a0268ea4"
      },
      "execution_count": null,
      "outputs": [
        {
          "output_type": "stream",
          "name": "stdout",
          "text": [
            "[10, 20, 30, 40]\n"
          ]
        }
      ]
    },
    {
      "cell_type": "code",
      "source": [
        "#16. 16) Write a `for` loop to print numbers from 1 to 5.\n",
        "#we can genrate a sequence of numbers  using range() function.\n",
        "#A for loop is used to iterate through a sequence like list,-  tuple, or string [iterable], loop continues untill we reach the last number or of item in sequence"
      ],
      "metadata": {
        "id": "jFVQjRxiBLmV"
      },
      "execution_count": null,
      "outputs": []
    },
    {
      "cell_type": "code",
      "source": [
        "#ans)\n",
        "for i in range(1,6):\n",
        "  print(i)"
      ],
      "metadata": {
        "id": "WQBkX75eBofm",
        "colab": {
          "base_uri": "https://localhost:8080/"
        },
        "outputId": "99a003bc-d8a9-4b76-c419-bb3ba3edda1b"
      },
      "execution_count": null,
      "outputs": [
        {
          "output_type": "stream",
          "name": "stdout",
          "text": [
            "1\n",
            "2\n",
            "3\n",
            "4\n",
            "5\n"
          ]
        }
      ]
    },
    {
      "cell_type": "code",
      "source": [
        "#17. 17) Write a `for` loop that prints numbers from 3 to 5"
      ],
      "metadata": {
        "id": "BBowHoUsB6Xt"
      },
      "execution_count": null,
      "outputs": []
    },
    {
      "cell_type": "code",
      "source": [
        "#ans)\n",
        "for i in range(3,6):\n",
        "  print(i)"
      ],
      "metadata": {
        "id": "FKWyAjJZDRx5",
        "colab": {
          "base_uri": "https://localhost:8080/"
        },
        "outputId": "1cf5cb33-503a-457c-fdb0-469c8a2abb76"
      },
      "execution_count": null,
      "outputs": [
        {
          "output_type": "stream",
          "name": "stdout",
          "text": [
            "3\n",
            "4\n",
            "5\n"
          ]
        }
      ]
    },
    {
      "cell_type": "code",
      "source": [
        "#18. 18) Write a `for` loop to iterate over a list `['apple', 'banana', 'cherry']` and print each element\n"
      ],
      "metadata": {
        "id": "QUp9QLdlDa5e"
      },
      "execution_count": null,
      "outputs": []
    },
    {
      "cell_type": "code",
      "source": [
        "#ans)\n",
        "list=['apple','banana','cherry']\n",
        "for value in list:\n",
        "  print(value)"
      ],
      "metadata": {
        "id": "cRu_odErDzZa",
        "colab": {
          "base_uri": "https://localhost:8080/"
        },
        "outputId": "fd69b01b-e40a-495a-e4c0-58e64ce462cd"
      },
      "execution_count": null,
      "outputs": [
        {
          "output_type": "stream",
          "name": "stdout",
          "text": [
            "apple\n",
            "banana\n",
            "cherry\n"
          ]
        }
      ]
    },
    {
      "cell_type": "code",
      "source": [
        "#19. 19) Write a `for` loop to print the squares of numbers from 1 to 4"
      ],
      "metadata": {
        "id": "1z56AL2MD5a7"
      },
      "execution_count": null,
      "outputs": []
    },
    {
      "cell_type": "code",
      "source": [
        "#ans)\n",
        "for i in range(1,5):\n",
        "  print(i*i)"
      ],
      "metadata": {
        "id": "6uVeNhVVEU_R",
        "colab": {
          "base_uri": "https://localhost:8080/"
        },
        "outputId": "eb09695c-1159-4bce-a8e0-4a4030cba05e"
      },
      "execution_count": null,
      "outputs": [
        {
          "output_type": "stream",
          "name": "stdout",
          "text": [
            "1\n",
            "4\n",
            "9\n",
            "16\n"
          ]
        }
      ]
    },
    {
      "cell_type": "code",
      "source": [
        "#20. 20) Write a `for` loop that prints `i * 2` for `i` in the range of 5."
      ],
      "metadata": {
        "id": "06u2hEjPEpBH"
      },
      "execution_count": null,
      "outputs": []
    },
    {
      "cell_type": "code",
      "source": [
        "#ans)\n",
        "for i in range(5):\n",
        "  print(i*2)"
      ],
      "metadata": {
        "id": "RV2mDUn0FEr6",
        "colab": {
          "base_uri": "https://localhost:8080/"
        },
        "outputId": "f0d65d03-4341-41f4-fd8f-ff2f6ece7b77"
      },
      "execution_count": null,
      "outputs": [
        {
          "output_type": "stream",
          "name": "stdout",
          "text": [
            "0\n",
            "2\n",
            "4\n",
            "6\n",
            "8\n"
          ]
        }
      ]
    },
    {
      "cell_type": "code",
      "source": [
        "#21. 21) Write a `while` loop that prints numbers from 1 to 5\n",
        "#In while loop, the condition is checked first if it evaluate to true , the body of the loop is executed, otherwise not.   In the loop entered , the process of [conditon executed] is continued until the condition become false .\n"
      ],
      "metadata": {
        "id": "0WfaF2ycIO-j"
      },
      "execution_count": null,
      "outputs": []
    },
    {
      "cell_type": "code",
      "source": [
        "i=1\n",
        "while i<=5:\n",
        "  print(i)\n",
        "  i=i+1"
      ],
      "metadata": {
        "id": "9aqqphkCTU9Z",
        "colab": {
          "base_uri": "https://localhost:8080/"
        },
        "outputId": "401863cb-6e87-41a9-b26a-1a9708ffa171"
      },
      "execution_count": null,
      "outputs": [
        {
          "output_type": "stream",
          "name": "stdout",
          "text": [
            "1\n",
            "2\n",
            "3\n",
            "4\n",
            "5\n"
          ]
        }
      ]
    },
    {
      "cell_type": "code",
      "source": [
        "#22. 22) Create a `while` loop that prints the numbers from 0 to 3."
      ],
      "metadata": {
        "id": "lRLQ8CAdTswI"
      },
      "execution_count": null,
      "outputs": []
    },
    {
      "cell_type": "code",
      "source": [
        "#ans)\n",
        "i=0\n",
        "while i<=3:\n",
        "  print(i)\n",
        "  i=i+1"
      ],
      "metadata": {
        "id": "M23QauTPUDCj",
        "colab": {
          "base_uri": "https://localhost:8080/"
        },
        "outputId": "14b915e3-0548-49dd-bc9f-4fd11e412a91"
      },
      "execution_count": null,
      "outputs": [
        {
          "output_type": "stream",
          "name": "stdout",
          "text": [
            "0\n",
            "1\n",
            "2\n",
            "3\n"
          ]
        }
      ]
    },
    {
      "cell_type": "code",
      "source": [
        "#23.23) Write a `while` loop that calculates and prints the sum of numbers from 1 to 10."
      ],
      "metadata": {
        "id": "i66mECnZUUcZ"
      },
      "execution_count": null,
      "outputs": []
    },
    {
      "cell_type": "code",
      "source": [
        "i=1\n",
        "total_sum=0\n",
        "while i<=10:\n",
        "  total_sum=total_sum+i\n",
        "  i=i+1\n",
        "  print(total_sum)\n",
        "\n"
      ],
      "metadata": {
        "id": "_RH3JGdzUdZx",
        "colab": {
          "base_uri": "https://localhost:8080/"
        },
        "outputId": "2e1d266b-1deb-4c45-e978-738089789a8b"
      },
      "execution_count": null,
      "outputs": [
        {
          "output_type": "stream",
          "name": "stdout",
          "text": [
            "1\n",
            "3\n",
            "6\n",
            "10\n",
            "15\n",
            "21\n",
            "28\n",
            "36\n",
            "45\n",
            "55\n"
          ]
        }
      ]
    },
    {
      "cell_type": "code",
      "source": [
        "#24. 24) Create a `while` loop that multiplies numbers from 1 to 4 and prints the result\n"
      ],
      "metadata": {
        "id": "6g-GXX1tV_Gt"
      },
      "execution_count": null,
      "outputs": []
    },
    {
      "cell_type": "code",
      "source": [
        "#ans)\n",
        "i=1\n",
        "product=1\n",
        "while i<=4:\n",
        "  product=product*i\n",
        "  i=i+1\n",
        "  print(product)\n",
        "\n",
        "\n",
        "\n"
      ],
      "metadata": {
        "id": "r1Rm_1koYLrT",
        "colab": {
          "base_uri": "https://localhost:8080/"
        },
        "outputId": "20657544-834b-457f-ad7b-b5b4aca0a240"
      },
      "execution_count": null,
      "outputs": [
        {
          "output_type": "stream",
          "name": "stdout",
          "text": [
            "1\n",
            "2\n",
            "6\n",
            "24\n"
          ]
        }
      ]
    },
    {
      "cell_type": "code",
      "source": [
        "#25.25) Write a `while` loop that prints numbers from 10 to 1, decrementing by 1 each time\n"
      ],
      "metadata": {
        "id": "IBrH9MU9Yxlp"
      },
      "execution_count": null,
      "outputs": []
    },
    {
      "cell_type": "code",
      "source": [
        "#ans)\n",
        "i=10\n",
        "while i>=1:\n",
        "  print(i)\n",
        "  i=i-1\n"
      ],
      "metadata": {
        "id": "XzWAjjXccGF7",
        "colab": {
          "base_uri": "https://localhost:8080/"
        },
        "outputId": "f8e95a7f-5e99-4179-a261-362aa4e983e2"
      },
      "execution_count": null,
      "outputs": [
        {
          "output_type": "stream",
          "name": "stdout",
          "text": [
            "10\n",
            "9\n",
            "8\n",
            "7\n",
            "6\n",
            "5\n",
            "4\n",
            "3\n",
            "2\n",
            "1\n"
          ]
        }
      ]
    },
    {
      "cell_type": "code",
      "source": [
        "#26. 26) Write a program that checks if a number is positive, negative, or zero"
      ],
      "metadata": {
        "id": "qWxge1gkchmZ"
      },
      "execution_count": null,
      "outputs": []
    },
    {
      "cell_type": "code",
      "source": [
        "#ans)\n",
        "x=float(input('enter a number:'))\n",
        "if x>0:\n",
        "  print('x is positive')\n",
        "elif x<0:\n",
        "  print('x is negative')\n",
        "else:\n",
        "    print('x is zero')\n"
      ],
      "metadata": {
        "id": "UiraM8z4dN9J",
        "colab": {
          "base_uri": "https://localhost:8080/"
        },
        "outputId": "edcaaa11-d2ec-4aed-ef10-8b22c1644ea0"
      },
      "execution_count": null,
      "outputs": [
        {
          "output_type": "stream",
          "name": "stdout",
          "text": [
            "enter a number:7\n",
            "x is positive\n"
          ]
        }
      ]
    },
    {
      "cell_type": "code",
      "source": [
        "#27. 27) Write a program that checks if a number is even or odd using `if-else`"
      ],
      "metadata": {
        "id": "5eoYS5k1dP2y"
      },
      "execution_count": null,
      "outputs": []
    },
    {
      "cell_type": "code",
      "source": [
        "#ans)\n",
        "number=int(input('enter a number:'))\n",
        "if number%2==0:\n",
        "  print('number is even')\n",
        "else:\n",
        "    print('number is odd')"
      ],
      "metadata": {
        "id": "O5F1tbiOgXTg",
        "colab": {
          "base_uri": "https://localhost:8080/"
        },
        "outputId": "ec7e7a9e-990a-4647-b624-914459e02d45"
      },
      "execution_count": null,
      "outputs": [
        {
          "output_type": "stream",
          "name": "stdout",
          "text": [
            "enter a number:8\n",
            "number is even\n"
          ]
        }
      ]
    },
    {
      "cell_type": "code",
      "source": [
        "#28. 28) Write a program that checks if a number is greater than 10 and prints 'Greater', otherwise prints 'Smaller"
      ],
      "metadata": {
        "id": "XBLsrsGYhICd"
      },
      "execution_count": null,
      "outputs": []
    },
    {
      "cell_type": "code",
      "source": [
        "#ans)\n",
        "number=float(input('enter a number '))\n",
        "if number>10:\n",
        "  print('Greater')\n",
        "else:\n",
        "   print('Smaller')"
      ],
      "metadata": {
        "id": "hI5p8HiVigSb",
        "colab": {
          "base_uri": "https://localhost:8080/"
        },
        "outputId": "52c99844-f47f-475e-8c0b-44f4e04dff54"
      },
      "execution_count": null,
      "outputs": [
        {
          "output_type": "stream",
          "name": "stdout",
          "text": [
            "enter a number 8\n",
            "Smaller\n"
          ]
        }
      ]
    },
    {
      "cell_type": "code",
      "source": [
        "#29. 29) Write a program that prints the grade based on a score: A (90-100), B(70-89), C (50-69), and D (0-49)."
      ],
      "metadata": {
        "id": "2f-O4XiNi-c0"
      },
      "execution_count": null,
      "outputs": []
    },
    {
      "cell_type": "code",
      "source": [
        "#ans)\n",
        "score=float(input('enter a score'))\n",
        "if score >=90 and score<=100:\n",
        "  print('A Grade')\n",
        "elif score>=70 and score<=89:\n",
        "  print('B Grade')\n",
        "elif score>=50 and score<=69:\n",
        "  print('C Grade')\n",
        "else:\n",
        "    print('D Grade')"
      ],
      "metadata": {
        "id": "MOeX16cJj8b0"
      },
      "execution_count": null,
      "outputs": []
    },
    {
      "cell_type": "code",
      "source": [
        "#30.30) Write a program that checks if a number is divisible by 5 and prints'Divisible' or 'Not Divisible'"
      ],
      "metadata": {
        "id": "lqrZeTsbl8YZ"
      },
      "execution_count": null,
      "outputs": []
    },
    {
      "cell_type": "code",
      "source": [
        "#ans)\n",
        "number=float(input('enter a number:'))\n",
        "if number %5==0:\n",
        "  print('Divisible')\n",
        "else:\n",
        "  print('Not Divisible')"
      ],
      "metadata": {
        "id": "42prcdHYmh90",
        "colab": {
          "base_uri": "https://localhost:8080/"
        },
        "outputId": "3cd45580-b318-43a4-92ab-975b5c28927b"
      },
      "execution_count": null,
      "outputs": [
        {
          "output_type": "stream",
          "name": "stdout",
          "text": [
            "enter a number:9\n",
            "Not Divisible\n"
          ]
        }
      ]
    },
    {
      "cell_type": "code",
      "source": [
        "#31. 31) Write a function `add_numbers(a, b)` that returns the sum of two  numbers\n",
        "#function is a group of statement performing a specific task\n",
        "#return allow a function to \"return\" a result that can then be stored as a variable, or used in whatever mannner user wants."
      ],
      "metadata": {
        "id": "QBaFMjZAoaeM"
      },
      "execution_count": null,
      "outputs": []
    },
    {
      "cell_type": "code",
      "source": [
        "#ans)\n",
        "def add_numbers(a,b):\n",
        "  return(a+b)"
      ],
      "metadata": {
        "id": "DyjEb-k-hFBx"
      },
      "execution_count": null,
      "outputs": []
    },
    {
      "cell_type": "code",
      "source": [
        "add_numbers(10,13)"
      ],
      "metadata": {
        "id": "bX7DvJzThXpS",
        "colab": {
          "base_uri": "https://localhost:8080/"
        },
        "outputId": "65d8a019-6a4f-4153-bd54-a396b6d60a21"
      },
      "execution_count": null,
      "outputs": [
        {
          "output_type": "execute_result",
          "data": {
            "text/plain": [
              "23"
            ]
          },
          "metadata": {},
          "execution_count": 477
        }
      ]
    },
    {
      "cell_type": "code",
      "source": [
        "#32. 32) Write a function that takes a string as input and prints it in reverse order"
      ],
      "metadata": {
        "id": "z5uA9Nd5ez0Y"
      },
      "execution_count": null,
      "outputs": []
    },
    {
      "cell_type": "code",
      "source": [
        "#ans)\n",
        "def reversed_string(string):\n",
        "  reversed_string=string[::-1]\n",
        "  print(reversed_string)"
      ],
      "metadata": {
        "id": "ltuUYe6Eienq"
      },
      "execution_count": null,
      "outputs": []
    },
    {
      "cell_type": "code",
      "source": [
        "reversed_string('police')"
      ],
      "metadata": {
        "id": "Z1FAOtVBjN2c"
      },
      "execution_count": null,
      "outputs": []
    },
    {
      "cell_type": "code",
      "source": [
        "#33. 33) Write a function that returns the maximum of three numbers.\n",
        "#max function is used for finding the maximum"
      ],
      "metadata": {
        "id": "wA2k1qH_e6Um"
      },
      "execution_count": null,
      "outputs": []
    },
    {
      "cell_type": "code",
      "source": [
        "#ans)\n",
        "def maximum(x,y,z):\n",
        "  return max(x,y,z)"
      ],
      "metadata": {
        "id": "OnXRpruLjfD8"
      },
      "execution_count": null,
      "outputs": []
    },
    {
      "cell_type": "code",
      "source": [
        "maximum(10,50,30)"
      ],
      "metadata": {
        "id": "OXkGvhDvkzft"
      },
      "execution_count": null,
      "outputs": []
    },
    {
      "cell_type": "code",
      "source": [
        "#34. 34)  Write a function that calculates the factorial of a number using a loop."
      ],
      "metadata": {
        "id": "gpAKTa45fWsk"
      },
      "execution_count": null,
      "outputs": []
    },
    {
      "cell_type": "code",
      "source": [
        "def factorial(n):\n",
        "  return 1 if (n==0 or n==1)else n*factorial(n-1)"
      ],
      "metadata": {
        "id": "SyyHaJH-q9Pv"
      },
      "execution_count": null,
      "outputs": []
    },
    {
      "cell_type": "code",
      "source": [
        "n= 4\n",
        "print(\"The factorial of\", n, 'is' ,factorial(n))"
      ],
      "metadata": {
        "id": "-UtL41I7lrmN",
        "colab": {
          "base_uri": "https://localhost:8080/"
        },
        "outputId": "52ec0a0e-671d-4862-ac28-1db50ea2b806"
      },
      "execution_count": null,
      "outputs": [
        {
          "output_type": "stream",
          "name": "stdout",
          "text": [
            "The factorial of 4 is 24\n"
          ]
        }
      ]
    },
    {
      "cell_type": "code",
      "source": [
        "#35. 35) Write a function `multiply(a, b)` that returns the product of two numbers and prints the result."
      ],
      "metadata": {
        "id": "lWHVMpjefZ2i"
      },
      "execution_count": null,
      "outputs": []
    },
    {
      "cell_type": "code",
      "source": [
        "#ans)\n",
        "def multiply(a,b):\n",
        "  return(a*b)"
      ],
      "metadata": {
        "id": "e3BMzm1Jtv3Y"
      },
      "execution_count": null,
      "outputs": []
    },
    {
      "cell_type": "code",
      "source": [
        "multiply(5,6)"
      ],
      "metadata": {
        "id": "WAYg0vJLt82E"
      },
      "execution_count": null,
      "outputs": []
    },
    {
      "cell_type": "code",
      "source": [
        "#36. 36) Write a lambda function that adds two numbers and prints the result.\n",
        "# lambda function is used for quick calculation and for one time."
      ],
      "metadata": {
        "id": "ZIPoBlkMfiGi"
      },
      "execution_count": null,
      "outputs": []
    },
    {
      "cell_type": "code",
      "source": [
        "#ans)\n",
        "addition=lambda x,y:x+y\n",
        "addition(2,3)"
      ],
      "metadata": {
        "id": "DoNm_g51uDA_"
      },
      "execution_count": null,
      "outputs": []
    },
    {
      "cell_type": "code",
      "source": [
        "#37. 37) Use a lambda function to square a number and print the result."
      ],
      "metadata": {
        "id": "i9Mi-BzDfpYE"
      },
      "execution_count": null,
      "outputs": []
    },
    {
      "cell_type": "code",
      "source": [
        "#ans)\n",
        "square=lambda x:x**2\n",
        "square(6)"
      ],
      "metadata": {
        "id": "a8sgMT7vuRLG",
        "colab": {
          "base_uri": "https://localhost:8080/"
        },
        "outputId": "644ba913-f19d-4b61-9609-9a758b013a31"
      },
      "execution_count": null,
      "outputs": [
        {
          "output_type": "execute_result",
          "data": {
            "text/plain": [
              "36"
            ]
          },
          "metadata": {},
          "execution_count": 486
        }
      ]
    },
    {
      "cell_type": "code",
      "source": [
        "#38. 38) Write a lambda function to find the cube of a number and call it with the value `3`"
      ],
      "metadata": {
        "id": "QLexd0-Lf5im"
      },
      "execution_count": null,
      "outputs": []
    },
    {
      "cell_type": "code",
      "source": [
        "cube=lambda x:x**3\n",
        "value=cube(2)\n",
        "print(f\"The cube of 3 is {value}\")"
      ],
      "metadata": {
        "id": "WGUWUcZfvaWO"
      },
      "execution_count": null,
      "outputs": []
    },
    {
      "cell_type": "code",
      "source": [
        "#39. 39) Write a lambda function that filters even numbers from the list `[1, 2, 3, 4,5, 6]`.\n",
        "#The filter () function returns an iterator were the items are filtered through a function to test if the item is accepted or not."
      ],
      "metadata": {
        "id": "phSDaG2LgLAu"
      },
      "execution_count": null,
      "outputs": []
    },
    {
      "cell_type": "code",
      "source": [
        "from builtins import *\n",
        "\n",
        "numbers = [1, 2, 3, 4, 5, 6]\n",
        "even_numbers = list(filter(lambda x: x % 2 == 0 ,numbers))\n",
        "print(f\"The even numbers are: {even_numbers}\")"
      ],
      "metadata": {
        "id": "mABHFNuKxC_x",
        "collapsed": true,
        "colab": {
          "base_uri": "https://localhost:8080/"
        },
        "outputId": "a8451126-3fd9-42f6-c8a9-c153ab84d2d1"
      },
      "execution_count": null,
      "outputs": [
        {
          "output_type": "stream",
          "name": "stdout",
          "text": [
            "The even numbers are: [2, 4, 6]\n"
          ]
        }
      ]
    },
    {
      "cell_type": "code",
      "source": [
        "numbers = [1, 2, 3, 4, 5, 6]\n",
        "\n",
        "# Use filter() with a lambda function to filter even numbers\n",
        "even_numbers = list(filter(lambda x: x % 2 == 0, numbers))\n",
        "\n",
        "# Print the result\n",
        "print(even_numbers)"
      ],
      "metadata": {
        "id": "r97q6qN8U4Zo",
        "colab": {
          "base_uri": "https://localhost:8080/"
        },
        "outputId": "8c58efef-110d-46f4-9de3-de45325373cc"
      },
      "execution_count": null,
      "outputs": [
        {
          "output_type": "stream",
          "name": "stdout",
          "text": [
            "[2, 4, 6]\n"
          ]
        }
      ]
    },
    {
      "cell_type": "code",
      "source": [
        "#40. 40) Write a lambda function to check if a number is positive and return `True` or `False`."
      ],
      "metadata": {
        "id": "1OuZ4AXKg7K4"
      },
      "execution_count": null,
      "outputs": []
    },
    {
      "cell_type": "code",
      "source": [
        "#ans)\n",
        "function=lambda y: True if y>0 else False\n",
        "function(-3)"
      ],
      "metadata": {
        "id": "_nOibay8hBMC",
        "colab": {
          "base_uri": "https://localhost:8080/"
        },
        "outputId": "8d7d4de4-7367-4b1e-9df5-010646dd655c"
      },
      "execution_count": null,
      "outputs": [
        {
          "output_type": "execute_result",
          "data": {
            "text/plain": [
              "False"
            ]
          },
          "metadata": {},
          "execution_count": 492
        }
      ]
    },
    {
      "cell_type": "code",
      "source": [
        "#41. 41) Write a program that multiplies each number in the list `[1, 2, 3, 4]` by 2 using `map()`.\n",
        "#map () is a built-in function in Python that allows you to process and transform  all the items in an iterable without using a loop."
      ],
      "metadata": {
        "id": "izmrLYsWx1ja"
      },
      "execution_count": null,
      "outputs": []
    },
    {
      "cell_type": "code",
      "source": [
        "#ans)\n",
        "values=[1,2,3,4]\n",
        "new_values=list((map(lambda x: x * 2, values)))\n",
        "print(new_values)"
      ],
      "metadata": {
        "id": "ZmjKCzpHGnwc",
        "colab": {
          "base_uri": "https://localhost:8080/"
        },
        "outputId": "b7e31420-bb9b-4c48-9b8c-33533bdd8e4e"
      },
      "execution_count": null,
      "outputs": [
        {
          "output_type": "stream",
          "name": "stdout",
          "text": [
            "[2, 4, 6, 8]\n"
          ]
        }
      ]
    },
    {
      "cell_type": "code",
      "source": [
        "#42. 42)Use `map()` to square each number in the list `[1, 2, 3, 4, 5]` and print the result."
      ],
      "metadata": {
        "id": "Tnp8gq2cIJ3y"
      },
      "execution_count": null,
      "outputs": []
    },
    {
      "cell_type": "code",
      "source": [
        "#ans)\n",
        "values=[1,2,3,4,5]\n",
        "new_values=list(map(lambda x:x**2,values))\n",
        "print(new_values)"
      ],
      "metadata": {
        "id": "BuaE0Ws3JnLh",
        "colab": {
          "base_uri": "https://localhost:8080/"
        },
        "outputId": "728bb07f-aae0-4bef-e589-6a60ecc07598"
      },
      "execution_count": null,
      "outputs": [
        {
          "output_type": "stream",
          "name": "stdout",
          "text": [
            "[1, 4, 9, 16, 25]\n"
          ]
        }
      ]
    },
    {
      "cell_type": "code",
      "source": [
        "#43. 43) Write a program that uses `map()` to convert a list of strings `['1', '2', '3']` into a list of integers"
      ],
      "metadata": {
        "id": "GnLpKYVTJo48"
      },
      "execution_count": null,
      "outputs": []
    },
    {
      "cell_type": "code",
      "source": [
        "#ans)\n",
        "strings=['1','2','3']\n",
        "integers=list((map(lambda x:int(x),strings))\n",
        "print(integers)\n",
        "\n"
      ],
      "metadata": {
        "id": "yRjt4uWiKUhp"
      },
      "execution_count": null,
      "outputs": []
    },
    {
      "cell_type": "code",
      "source": [
        "#44. 44) Use `map()` to calculate the square of each element in the list `[1, 4, 9,16]` and print the result"
      ],
      "metadata": {
        "id": "JPlw2P5nKcdo"
      },
      "execution_count": null,
      "outputs": []
    },
    {
      "cell_type": "code",
      "source": [
        "#ans)\n",
        "elements=[1,4,9,16]\n",
        "new_elements=list(map(lambda z:z**2,elements))\n",
        "print(new_elements)"
      ],
      "metadata": {
        "id": "bHvnCUieLvd-",
        "colab": {
          "base_uri": "https://localhost:8080/"
        },
        "outputId": "a9e143c8-9d41-42f8-8809-3e8cca429241"
      },
      "execution_count": null,
      "outputs": [
        {
          "output_type": "stream",
          "name": "stdout",
          "text": [
            "[1, 16, 81, 256]\n"
          ]
        }
      ]
    },
    {
      "cell_type": "code",
      "source": [
        "#45. 45) Write a program that uses `map()` to capitalize each word in the list `['hello', 'world']`."
      ],
      "metadata": {
        "id": "QIKGhpDcMQLK"
      },
      "execution_count": null,
      "outputs": []
    },
    {
      "cell_type": "code",
      "source": [
        "#ans)\n",
        "words=['hello','world']\n",
        "new_words=list(map(lambda x:x.capitalize,words))"
      ],
      "metadata": {
        "id": "HhHxj2uDMpBt"
      },
      "execution_count": null,
      "outputs": []
    },
    {
      "cell_type": "code",
      "source": [
        "#46. 46) Write a program that uses `filter()` to get only the even numbers from the list `[1, 2, 3, 4, 5, 6]`."
      ],
      "metadata": {
        "id": "pvEP3QOeM057"
      },
      "execution_count": null,
      "outputs": []
    },
    {
      "cell_type": "code",
      "source": [
        "[1,2,3,4,5,6]\n",
        "new_items=list(filter(lambda x:x%2==0,[1,2,3,4,5,6]))\n",
        "print(new_items)"
      ],
      "metadata": {
        "id": "d7VbiSxuSDRO",
        "colab": {
          "base_uri": "https://localhost:8080/"
        },
        "outputId": "038bc7be-6626-446c-ad00-28d4eedc4cd7"
      },
      "execution_count": null,
      "outputs": [
        {
          "output_type": "stream",
          "name": "stdout",
          "text": [
            "[2, 4, 6]\n"
          ]
        }
      ]
    },
    {
      "cell_type": "code",
      "source": [
        "#47. 47) Write a program that filters numbers greater than 3 from the list `[1, 2, 3,4, 5]` using `filter()`."
      ],
      "metadata": {
        "id": "eAh7FpMgqjvd"
      },
      "execution_count": null,
      "outputs": []
    },
    {
      "cell_type": "code",
      "source": [
        "#ans)\n",
        "number=[1,2,3,4,5]\n",
        "new_number=list(filter(lambda x:x>3,number))\n",
        "print(new_number)"
      ],
      "metadata": {
        "id": "2Eakzmg84Som",
        "colab": {
          "base_uri": "https://localhost:8080/"
        },
        "outputId": "1dd7b33b-415e-4d7e-f08b-6feeaffae4d7"
      },
      "execution_count": 506,
      "outputs": [
        {
          "output_type": "stream",
          "name": "stdout",
          "text": [
            "[4, 5]\n"
          ]
        }
      ]
    },
    {
      "cell_type": "code",
      "source": [
        "#48.48)Use `filter()` to get all names longer than 3 characters from the list`['Tom', 'Jack', 'Bob', 'Alice']`."
      ],
      "metadata": {
        "id": "HPGMfdbOJQAv"
      },
      "execution_count": 512,
      "outputs": []
    },
    {
      "cell_type": "code",
      "source": [
        "#ans)\n",
        "names = ['Tom', 'Jack', 'Bob', 'Alice']\n",
        "filtered_names =list(filter(lambda x:len(x)>3,names))\n",
        "print(filtered_names)\n"
      ],
      "metadata": {
        "colab": {
          "base_uri": "https://localhost:8080/"
        },
        "id": "QHL6zE-xF433",
        "outputId": "b540fff5-e497-4c8d-976e-c99296dcc307"
      },
      "execution_count": 513,
      "outputs": [
        {
          "output_type": "stream",
          "name": "stdout",
          "text": [
            "['Jack', 'Alice']\n"
          ]
        }
      ]
    },
    {
      "cell_type": "code",
      "source": [
        "#49. 49) Write a program that filters out negative numbers from the list `[-1, -2, 3,4, -5]`."
      ],
      "metadata": {
        "id": "jCepVwjMFzWU"
      },
      "execution_count": 516,
      "outputs": []
    },
    {
      "cell_type": "code",
      "source": [
        "#ans)\n",
        "numbers = [-1, -2, 3, 4, -5]\n",
        "positive_numbers = list(filter(lambda x: x >= 0, numbers))\n",
        "print(positive_numbers)"
      ],
      "metadata": {
        "colab": {
          "base_uri": "https://localhost:8080/"
        },
        "id": "GzECYRK7Jo50",
        "outputId": "71f0d664-4e7d-479d-f633-def02835186e"
      },
      "execution_count": 517,
      "outputs": [
        {
          "output_type": "stream",
          "name": "stdout",
          "text": [
            "[3, 4]\n"
          ]
        }
      ]
    },
    {
      "cell_type": "code",
      "source": [
        "#50. 50) Use `filter()` to find all numbers divisible by 3 from the list `[1, 2, 3, 4, 5,6]"
      ],
      "metadata": {
        "id": "tlYrfQkpKEz5"
      },
      "execution_count": 518,
      "outputs": []
    },
    {
      "cell_type": "code",
      "source": [
        "#ans)\n",
        "numbers=[1,2,3,4,5,6]\n",
        "new_numbers=list(filter(lambda x:x%3==0,numbers))\n",
        "print(new_numbers)\n"
      ],
      "metadata": {
        "colab": {
          "base_uri": "https://localhost:8080/"
        },
        "id": "eejyeWTzKSb5",
        "outputId": "7963eba4-6479-47bd-f1d1-91299f367eca"
      },
      "execution_count": 519,
      "outputs": [
        {
          "output_type": "stream",
          "name": "stdout",
          "text": [
            "[3, 6]\n"
          ]
        }
      ]
    },
    {
      "cell_type": "code",
      "source": [
        "#51. 51) Write a program that prints numbers from 1 to 5, but breaks the loop when it reaches 3.\n",
        "#The Break Statement used to terminate the loop, it is used in loop and swith case.\n",
        "\n"
      ],
      "metadata": {
        "id": "H5reY0-CKqlc"
      },
      "execution_count": 548,
      "outputs": []
    },
    {
      "cell_type": "code",
      "source": [
        "#ans)\n",
        "for number in range(1, 6):\n",
        "    if number == 3:\n",
        "        break\n",
        "    print(number)"
      ],
      "metadata": {
        "colab": {
          "base_uri": "https://localhost:8080/"
        },
        "id": "-lIiMJc6LAR6",
        "outputId": "6cf9e2e9-2253-4f4a-cfa1-70d1f3e3a64a"
      },
      "execution_count": 521,
      "outputs": [
        {
          "output_type": "stream",
          "name": "stdout",
          "text": [
            "1\n",
            "2\n"
          ]
        }
      ]
    },
    {
      "cell_type": "code",
      "source": [
        "#52. 52) Write a program that prints numbers from 1 to 5, but skips 3 using `continue`\n",
        "#Continue statement is used to continue the next interation in the loop, its only used in loop, keyword \"continue\" used for continue statement , control remains in the same loop."
      ],
      "metadata": {
        "id": "I5G2ZidVLZnC"
      },
      "execution_count": 549,
      "outputs": []
    },
    {
      "cell_type": "code",
      "source": [
        "#ans)\n",
        "for number in range(1, 6):\n",
        "    if number == 3:\n",
        "        continue\n",
        "    print(number)"
      ],
      "metadata": {
        "colab": {
          "base_uri": "https://localhost:8080/"
        },
        "id": "YKDH8b4ILmhm",
        "outputId": "368ee984-d62b-49ba-cfcf-74c7ee6bed27"
      },
      "execution_count": 525,
      "outputs": [
        {
          "output_type": "stream",
          "name": "stdout",
          "text": [
            "1\n",
            "2\n",
            "4\n",
            "5\n"
          ]
        }
      ]
    },
    {
      "cell_type": "code",
      "source": [
        "#53. 53)Write a program that prints numbers from 1 to 5, but stops when the number is greater than 4 using `break`."
      ],
      "metadata": {
        "id": "mlD5BK1HMDSw"
      },
      "execution_count": 527,
      "outputs": []
    },
    {
      "cell_type": "code",
      "source": [
        "#ans)\n",
        "for number in range(1, 6):\n",
        "    if number > 4:\n",
        "        break\n",
        "    print(number)"
      ],
      "metadata": {
        "colab": {
          "base_uri": "https://localhost:8080/"
        },
        "id": "XHkmCJTBMJju",
        "outputId": "f29b7645-810d-4693-f4bd-852c4c22dc41"
      },
      "execution_count": 528,
      "outputs": [
        {
          "output_type": "stream",
          "name": "stdout",
          "text": [
            "1\n",
            "2\n",
            "3\n",
            "4\n"
          ]
        }
      ]
    },
    {
      "cell_type": "code",
      "source": [
        "#54.54) Write a program that prints all the even numbers from 1 to 10, using `continue` to skip odd numbers"
      ],
      "metadata": {
        "id": "_CCVV1WIMcQO"
      },
      "execution_count": 529,
      "outputs": []
    },
    {
      "cell_type": "code",
      "source": [
        "#ans)\n",
        "for number in range(1, 11):\n",
        "    if number % 2 != 0:\n",
        "        continue\n",
        "    print(number)"
      ],
      "metadata": {
        "colab": {
          "base_uri": "https://localhost:8080/"
        },
        "id": "iL6f7igzMqx-",
        "outputId": "7bd16051-5764-49d3-8972-86f6d909d381"
      },
      "execution_count": 530,
      "outputs": [
        {
          "output_type": "stream",
          "name": "stdout",
          "text": [
            "2\n",
            "4\n",
            "6\n",
            "8\n",
            "10\n"
          ]
        }
      ]
    },
    {
      "cell_type": "code",
      "source": [
        "#55. 55) Create a loop that breaks when a negative number is encountered in the list `[1, 2, 3, -1, 4]`"
      ],
      "metadata": {
        "id": "HXRTbjxlM3hU"
      },
      "execution_count": 531,
      "outputs": []
    },
    {
      "cell_type": "code",
      "source": [
        "#ans)\n",
        "numbers = [1, 2, 3, -1, 4]\n",
        "\n",
        "for number in numbers:\n",
        "    if number < 0:\n",
        "        break\n",
        "    print(number)"
      ],
      "metadata": {
        "colab": {
          "base_uri": "https://localhost:8080/"
        },
        "id": "E5LRD9x3NEGk",
        "outputId": "7ac6b2d1-7360-4631-ea43-0fd91ba0762c"
      },
      "execution_count": 532,
      "outputs": [
        {
          "output_type": "stream",
          "name": "stdout",
          "text": [
            "1\n",
            "2\n",
            "3\n"
          ]
        }
      ]
    },
    {
      "cell_type": "code",
      "source": [
        "#56. 56) Write a program that uses `enumerate()` to print the index and value of each element in the list `['apple', 'banana', 'cherry']`\n",
        "#enumerate is used for index over a list"
      ],
      "metadata": {
        "id": "o4uj6_DENTag"
      },
      "execution_count": 550,
      "outputs": []
    },
    {
      "cell_type": "code",
      "source": [
        "#ans)\n",
        "fruits = ['apple', 'banana', 'cherry']\n",
        "\n",
        "for index, value in enumerate(fruits):\n",
        "    print(f\"Index: {index}, Value: {value}\")"
      ],
      "metadata": {
        "colab": {
          "base_uri": "https://localhost:8080/"
        },
        "id": "kTH6MSFWNoI6",
        "outputId": "cb3599ba-87c7-4c68-e4d1-6b764dc0c9b2"
      },
      "execution_count": 534,
      "outputs": [
        {
          "output_type": "stream",
          "name": "stdout",
          "text": [
            "Index: 0, Value: apple\n",
            "Index: 1, Value: banana\n",
            "Index: 2, Value: cherry\n"
          ]
        }
      ]
    },
    {
      "cell_type": "code",
      "source": [
        "#57. 57) Write a program to unzip the list of tuples `[(1, 'a'), (2, 'b'), (3, 'c')]` into two separate lists\n",
        "#unzip is used for seperating elements of two ists"
      ],
      "metadata": {
        "id": "HqjE04GFOEEN"
      },
      "execution_count": 552,
      "outputs": []
    },
    {
      "cell_type": "code",
      "source": [
        "#ans)\n",
        "tuples = [(1, 'a'), (2, 'b'), (3, 'c')]\n",
        "list1, list2 = zip(*tuples)\n",
        "list1 = list(list1)\n",
        "list2 = list(list2)\n",
        "\n",
        "print(\"List 1:\", list1)\n",
        "print(\"List 2:\", list2)"
      ],
      "metadata": {
        "colab": {
          "base_uri": "https://localhost:8080/"
        },
        "id": "2y4qZLqOOOPg",
        "outputId": "87e741cd-21cb-439c-97a8-d9d2e781acde"
      },
      "execution_count": 538,
      "outputs": [
        {
          "output_type": "stream",
          "name": "stdout",
          "text": [
            "List 1: [1, 2, 3]\n",
            "List 2: ['a', 'b', 'c']\n"
          ]
        }
      ]
    },
    {
      "cell_type": "code",
      "source": [
        "#58. 58) Write a program that zips two lists `['apple', 'banana']` and `[1, 2]` and prints the result.\n",
        "#zip method use when we join a two list."
      ],
      "metadata": {
        "id": "I96Mj1hAOPUY"
      },
      "execution_count": 551,
      "outputs": []
    },
    {
      "cell_type": "code",
      "source": [
        "#ans)\n",
        "numbers = [1, 2]\n",
        "\n",
        "zipped_result = zip(fruits, numbers)\n",
        "\n",
        "print(list(zipped_result))\n"
      ],
      "metadata": {
        "colab": {
          "base_uri": "https://localhost:8080/"
        },
        "id": "LgObGxxyQjZf",
        "outputId": "8361aa25-2fc2-443c-b9e9-30830932e8d8"
      },
      "execution_count": 545,
      "outputs": [
        {
          "output_type": "stream",
          "name": "stdout",
          "text": [
            "[('apple', 1), ('banana', 2)]\n"
          ]
        }
      ]
    },
    {
      "cell_type": "code",
      "source": [
        "#59. 59) Write a program to find the sum of corresponding elements in two lists `a = [1, 2, 3]` and `b = [4, 5, 6]` using `zip()`."
      ],
      "metadata": {
        "id": "zfoP9jhSO-KB"
      },
      "execution_count": 541,
      "outputs": []
    },
    {
      "cell_type": "code",
      "source": [
        "#ans)\n",
        "a= [1, 2, 3]\n",
        "b = [4, 5, 6]\n",
        "\n",
        "# Using zip() to pair corresponding elements from both lists\n",
        "sum_list = [x + y for x, y in zip(a, b)]\n",
        "\n",
        "print(sum_list)\n"
      ],
      "metadata": {
        "colab": {
          "base_uri": "https://localhost:8080/"
        },
        "id": "z2Fe6vErOsG3",
        "outputId": "f32b2232-5b59-4ffc-9573-e1860fe4e7fd"
      },
      "execution_count": 543,
      "outputs": [
        {
          "output_type": "stream",
          "name": "stdout",
          "text": [
            "[5, 7, 9]\n"
          ]
        }
      ]
    },
    {
      "cell_type": "code",
      "source": [
        "#60. 60) Use `enumerate()` to loop over a list of names and print each name with its index"
      ],
      "metadata": {
        "id": "rH5BCpLcQ4R4"
      },
      "execution_count": 546,
      "outputs": []
    },
    {
      "cell_type": "code",
      "source": [
        "#ans)\n",
        "names = [\"Anu\", \"Babu\", \"Chottu\", \"David\", \"Das\"]\n",
        "\n",
        "for index, name in enumerate(names):\n",
        "    print(f\"Index {index}: {name}\")"
      ],
      "metadata": {
        "colab": {
          "base_uri": "https://localhost:8080/"
        },
        "id": "zxb9CtH_Q_gt",
        "outputId": "f86341c6-fd79-4900-e156-5d8004d8e62a"
      },
      "execution_count": 547,
      "outputs": [
        {
          "output_type": "stream",
          "name": "stdout",
          "text": [
            "Index 0: Anu\n",
            "Index 1: Babu\n",
            "Index 2: Chottu\n",
            "Index 3: David\n",
            "Index 4: Das\n"
          ]
        }
      ]
    },
    {
      "cell_type": "code",
      "source": [],
      "metadata": {
        "id": "fpn7rOA8RY-E"
      },
      "execution_count": null,
      "outputs": []
    }
  ]
}